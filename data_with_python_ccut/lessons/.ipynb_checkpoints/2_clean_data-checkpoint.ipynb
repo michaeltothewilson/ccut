{
 "cells": [
  {
   "cell_type": "markdown",
   "id": "55d78615-7503-47ea-9dc7-f7f765c270d0",
   "metadata": {},
   "source": [
    "# Cleaning Data\n",
    "\n",
    "<center><img src=\"https://cdn.shopify.com/s/files/1/0814/0441/files/lafufu_daobubu__1_vivian.jpg\" width=50%></center>"
   ]
  },
  {
   "cell_type": "code",
   "execution_count": null,
   "id": "c4ebfcab-46e4-4141-8abf-4bd85dc6aed4",
   "metadata": {},
   "outputs": [],
   "source": [
    "# Import Pandas\n",
    "import pandas as pd"
   ]
  },
  {
   "cell_type": "code",
   "execution_count": null,
   "id": "ea4ecbd4-d21c-47a6-a162-fb515ee79f79",
   "metadata": {},
   "outputs": [],
   "source": [
    "# Load Labubu Data\n",
    "# Source: Google Trends\n",
    "file = \"../data/labubu_interest_by_region.csv\"\n",
    "\n",
    "labubu = "
   ]
  },
  {
   "cell_type": "code",
   "execution_count": null,
   "id": "c0453883-0347-4acc-9a03-a70dfaeb01e6",
   "metadata": {},
   "outputs": [],
   "source": [
    "# View Information\n",
    "\n",
    "\n",
    "\n"
   ]
  },
  {
   "cell_type": "markdown",
   "id": "b9f0baa8-52f9-43c6-8ce9-37df0677a87f",
   "metadata": {},
   "source": [
    "## Removing NaN Values\n",
    "\n",
    "__Syntax__:\n",
    "```python\n",
    "dataframe_cleaned = dataframe.dropna()\n",
    "```"
   ]
  },
  {
   "cell_type": "code",
   "execution_count": null,
   "id": "c4e67620-4dea-4fd0-9f5a-1e0164247ef0",
   "metadata": {},
   "outputs": [],
   "source": [
    "## Remove NaN values from Labubu Data\n",
    "labubu_cleaned = \n",
    "\n",
    "\n"
   ]
  },
  {
   "cell_type": "code",
   "execution_count": null,
   "id": "3c2a144b-add1-4ee8-a13e-f7a24986ff8e",
   "metadata": {},
   "outputs": [],
   "source": [
    "## View New Information\n",
    "\n",
    "\n",
    "\n"
   ]
  },
  {
   "cell_type": "markdown",
   "id": "4b90533d-6f97-4433-b4e5-d0529201e80a",
   "metadata": {},
   "source": [
    "## Load Lafufu Data"
   ]
  },
  {
   "cell_type": "code",
   "execution_count": null,
   "id": "38d64ce4-4b6a-4885-bcc5-669b369f14e9",
   "metadata": {},
   "outputs": [],
   "source": [
    "# Load Lafufu Data\n",
    "## Data Source: Google Trends\n",
    "\n",
    "file = \"../data/lafufu_interest_by_region.csv\"\n",
    "\n",
    "lafufu = "
   ]
  },
  {
   "cell_type": "code",
   "execution_count": null,
   "id": "ae2c0ddf-ce0e-4490-982c-9b4ba968cbc7",
   "metadata": {},
   "outputs": [],
   "source": [
    "# View Information\n",
    "\n",
    "\n"
   ]
  },
  {
   "cell_type": "code",
   "execution_count": null,
   "id": "a6aacade-3669-4c55-a2cc-3fad89f1507d",
   "metadata": {},
   "outputs": [],
   "source": [
    "## Remove NaN Values\n",
    "lafufu_cleaned = lafufu.dropna()\n",
    "\n"
   ]
  },
  {
   "cell_type": "code",
   "execution_count": null,
   "id": "a47b1d42-5638-4fbd-9992-3110900ae21e",
   "metadata": {},
   "outputs": [],
   "source": [
    "## View Information\n",
    "lafufu_cleaned.info()\n",
    "\n"
   ]
  },
  {
   "cell_type": "markdown",
   "id": "86fb8e67-9bf0-4e09-b621-1f19f9740494",
   "metadata": {},
   "source": [
    "## Change Data Type\n",
    "\n",
    "Interest should be a float\n",
    "\n",
    "__Syntax__:\n",
    "```python\n",
    "dataframe[column] = pd.to_numeric(dataframe[column], errorsr=\"coerce\")\n",
    "```"
   ]
  },
  {
   "cell_type": "code",
   "execution_count": null,
   "id": "056b5900-3532-49c0-8335-4fec80b7b07f",
   "metadata": {},
   "outputs": [],
   "source": [
    "## Change Interest Column to Numeric Data Type\n",
    "\n",
    "lafufu_cleaned[\"Interest\"] = \n",
    "\n"
   ]
  },
  {
   "cell_type": "code",
   "execution_count": null,
   "id": "db3e004d-f214-404b-87b3-e61d20f3e883",
   "metadata": {},
   "outputs": [],
   "source": [
    "## View Information\n",
    "\n",
    "\n",
    "\n"
   ]
  },
  {
   "cell_type": "code",
   "execution_count": null,
   "id": "fd94c6a2-c794-4189-ba36-79c6ad3d202a",
   "metadata": {},
   "outputs": [],
   "source": [
    "## Display Top 10 Lafufu Regions\n",
    "\n",
    "\n",
    "\n"
   ]
  }
 ],
 "metadata": {
  "kernelspec": {
   "display_name": "Python 3 (ipykernel)",
   "language": "python",
   "name": "python3"
  },
  "language_info": {
   "codemirror_mode": {
    "name": "ipython",
    "version": 3
   },
   "file_extension": ".py",
   "mimetype": "text/x-python",
   "name": "python",
   "nbconvert_exporter": "python",
   "pygments_lexer": "ipython3",
   "version": "3.12.5"
  }
 },
 "nbformat": 4,
 "nbformat_minor": 5
}
