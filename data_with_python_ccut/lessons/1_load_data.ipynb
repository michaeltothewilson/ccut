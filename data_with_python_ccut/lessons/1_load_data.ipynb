{
 "cells": [
  {
   "cell_type": "markdown",
   "id": "77d76ed8-07e2-4620-9c0c-06b165331918",
   "metadata": {},
   "source": [
    "# Loading Data"
   ]
  }
 ],
 "metadata": {
  "kernelspec": {
   "display_name": "Python 3 (ipykernel)",
   "language": "python",
   "name": "python3"
  },
  "language_info": {
   "codemirror_mode": {
    "name": "ipython",
    "version": 3
   },
   "file_extension": ".py",
   "mimetype": "text/x-python",
   "name": "python",
   "nbconvert_exporter": "python",
   "pygments_lexer": "ipython3",
   "version": "3.12.5"
  }
 },
 "nbformat": 4,
 "nbformat_minor": 5
}
