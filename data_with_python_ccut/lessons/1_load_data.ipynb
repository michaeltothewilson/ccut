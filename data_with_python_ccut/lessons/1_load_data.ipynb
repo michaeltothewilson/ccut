{
 "cells": [
  {
   "cell_type": "markdown",
   "id": "77d76ed8-07e2-4620-9c0c-06b165331918",
   "metadata": {},
   "source": [
    "# Loading Data"
   ]
  },
  {
   "cell_type": "markdown",
   "id": "60880670-fc68-4081-9b0b-8a5e799eef5b",
   "metadata": {},
   "source": [
    "## Importing Pandas\n",
    "\n",
    "__Syntax__:\n",
    "\n",
    "```python\n",
    "import pandas as pd\n",
    "```"
   ]
  },
  {
   "cell_type": "code",
   "execution_count": null,
   "id": "8cec9292-2a39-4814-ad9e-0be0df3a1a34",
   "metadata": {},
   "outputs": [],
   "source": [
    "# Import Pandas\n",
    "import pandas as pd\n",
    "\n"
   ]
  },
  {
   "cell_type": "markdown",
   "id": "21b54ea9-c4a4-47ac-96a1-2016085009f8",
   "metadata": {},
   "source": [
    "## Loading a DataFrame: Dictionary\n",
    "\n",
    "__Syntax__:\n",
    "```python\n",
    "dataframe = pd.DataFrame(data)\n",
    "```"
   ]
  },
  {
   "cell_type": "markdown",
   "id": "afdc811b-8387-4597-9c51-41d0e03406f4",
   "metadata": {},
   "source": [
    "## Load Labubu 2024 Sales Data\n",
    "<center>\n",
    "<img src=\"https://upload.wikimedia.org/wikipedia/en/a/a9/Pop_Mart_Labubu_The_Monsters_Exciting_Macaron.jpg\">\n",
    "</center>"
   ]
  },
  {
   "cell_type": "code",
   "execution_count": null,
   "id": "1922abe2-d383-4932-a6a9-484178a85f94",
   "metadata": {},
   "outputs": [],
   "source": [
    "## Load Data from a List of Dictionaries\n",
    "\n",
    "data = [\n",
    "    {\"Region\": \"Southeast Asia\", \"Revenue (USD) (M)\": 78.4, \"Revenue (Yuan) (M)\": 560.0},\n",
    "    {\"Region\": \"East Asia\", \"Revenue (USD) (M)\": 67.0, \"Revenue (Yuan) (M)\": 480.0},\n",
    "    {\"Region\": \"North America\", \"Revenue (USD) (M)\": 25.2, \"Revenue (Yuan) (M)\": 180.0},\n",
    "    {\"Region\": \"Europe and Other Markets\", \"Revenue (USD) (M)\": 19.6, \"Revenue (Yuan) (M)\": 140.0}\n",
    "]\n",
    "\n",
    "labubu_sales = "
   ]
  },
  {
   "cell_type": "markdown",
   "id": "7bd5cd6a-4b31-4fdd-ad32-d44eca9beb48",
   "metadata": {},
   "source": [
    "## Initial DataFrame Inspection\n",
    "\n",
    "* __`df.head()`:__ to see the beginning of your data.\n",
    "* __`df.tail()`:__ to see the end of your data.\n",
    "* __`df.describe()`:__ for a statistical summary of numerical columns.\n",
    "* __`df.info()`:__ to check data types and non-null values."
   ]
  },
  {
   "cell_type": "code",
   "execution_count": null,
   "id": "007ad996-4957-4685-be83-4e01ce6e8edf",
   "metadata": {},
   "outputs": [],
   "source": [
    "## View Beginning of Data\n",
    "\n",
    "\n"
   ]
  },
  {
   "cell_type": "code",
   "execution_count": null,
   "id": "513c74cc-a7c7-4067-886f-2f813caa0217",
   "metadata": {},
   "outputs": [],
   "source": [
    "## View Statistical Summary\n",
    "\n",
    "\n"
   ]
  },
  {
   "cell_type": "markdown",
   "id": "d55d8ebb-c45f-4cfa-ae32-a3deadac552e",
   "metadata": {},
   "source": [
    "### Calculate `.sum()`\n",
    "\n",
    "In Pandas, we can calculate the total value of a column using the `.sum()` method.\n",
    "\n",
    "__Syntax__:\n",
    "```python\n",
    "total = dataframe[column].sum()\n",
    "```"
   ]
  },
  {
   "cell_type": "code",
   "execution_count": null,
   "id": "5dff72b9-c41d-48b3-8207-fe4febb26592",
   "metadata": {},
   "outputs": [],
   "source": [
    "## What is the Total Revenue in USD?\n",
    "total_revenue_usd = \n",
    "\n"
   ]
  },
  {
   "cell_type": "code",
   "execution_count": null,
   "id": "0ca15ebc-ad37-4045-bb27-261e6c337de5",
   "metadata": {},
   "outputs": [],
   "source": [
    "## What is the Total Revenue in Yuan?\n",
    "total_revenue_yuan = \n",
    "\n"
   ]
  },
  {
   "cell_type": "markdown",
   "id": "7a33f99c-53dd-4847-a484-9717c8fe9c32",
   "metadata": {},
   "source": [
    "## Loading a DataFrame: CSV File\n",
    "\n",
    "__Syntax__:\n",
    "```python\n",
    "dataframe = pd.read_csv(file_path)\n",
    "```"
   ]
  },
  {
   "cell_type": "markdown",
   "id": "a6ad5aa6-9088-4b35-b581-ee730214c47b",
   "metadata": {},
   "source": [
    "## Labubu DataFrame\n",
    "\n",
    "Let's load some data about Labubu's Search Interest"
   ]
  },
  {
   "cell_type": "code",
   "execution_count": null,
   "id": "996ad99d-ec96-4f72-a42d-222632772053",
   "metadata": {},
   "outputs": [],
   "source": [
    "# Create Data Frame\n",
    "\n",
    "file = \"../data/labubu_interest_by_region.csv\"\n",
    "\n"
   ]
  },
  {
   "cell_type": "code",
   "execution_count": null,
   "id": "cbaa2a3a-6c1f-44f9-bbe8-17b3687e3eba",
   "metadata": {},
   "outputs": [],
   "source": [
    "# Data Types and Information\n",
    "\n"
   ]
  },
  {
   "cell_type": "code",
   "execution_count": null,
   "id": "4db8018b-466c-42a6-8396-1dddae0c5b32",
   "metadata": {},
   "outputs": [],
   "source": [
    "# Beginning of Data\n",
    "\n",
    "\n"
   ]
  },
  {
   "cell_type": "code",
   "execution_count": null,
   "id": "bd12f050-73a8-445c-b909-cf9f0115cd6f",
   "metadata": {},
   "outputs": [],
   "source": [
    "# End of Data\n",
    "\n",
    "\n"
   ]
  },
  {
   "cell_type": "code",
   "execution_count": null,
   "id": "278b08f4-03a6-4b8d-92d2-3906adcbaf8e",
   "metadata": {},
   "outputs": [],
   "source": [
    "# Statistical Summary\n",
    "\n",
    "\n"
   ]
  },
  {
   "cell_type": "markdown",
   "id": "949ed592-445e-4d12-9f64-2e83d2d56704",
   "metadata": {},
   "source": [
    "## Sort Data: View Top 10 Regions\n",
    "\n",
    "__Syntax__:\n",
    "\n",
    "```python\n",
    "dataframe.sort_values(by=column_name, ascending=False).head(10)\n",
    "```"
   ]
  },
  {
   "cell_type": "code",
   "execution_count": null,
   "id": "58635e0f-7a23-4817-a54d-ade79e9246b5",
   "metadata": {},
   "outputs": [],
   "source": [
    "### Sort by Interest\n",
    "\n",
    "\n"
   ]
  },
  {
   "cell_type": "markdown",
   "id": "e3389a97-c564-4f5e-bc08-d1f27c6d9b7c",
   "metadata": {},
   "source": [
    "## Create New DataFrame: Lafufu"
   ]
  },
  {
   "cell_type": "code",
   "execution_count": null,
   "id": "a03c2abb-8c12-4335-9ece-8419e94e5c75",
   "metadata": {},
   "outputs": [],
   "source": [
    "## Import Lafufu Data\n",
    "file = \"../data/lafufu_interest_by_region.csv\"\n",
    "\n"
   ]
  },
  {
   "cell_type": "code",
   "execution_count": null,
   "id": "0b970e5b-d280-484e-b4c4-fc75d97aad2e",
   "metadata": {},
   "outputs": [],
   "source": [
    "## View Lafufu Info\n",
    "\n",
    "\n"
   ]
  },
  {
   "cell_type": "code",
   "execution_count": null,
   "id": "21d8d9aa-49ef-4692-a7b4-d06647dec0f6",
   "metadata": {},
   "outputs": [],
   "source": [
    "## View Top of DataFrame\n",
    "\n",
    "\n"
   ]
  },
  {
   "cell_type": "code",
   "execution_count": null,
   "id": "b6caa418-e9e3-4a43-bf2f-7e2fcdf47ef5",
   "metadata": {},
   "outputs": [],
   "source": [
    "## View Bottom of DataFrame\n",
    "\n",
    "\n"
   ]
  },
  {
   "cell_type": "code",
   "execution_count": null,
   "id": "8cecc7d1-0dd6-4799-b6b1-80b94480388d",
   "metadata": {},
   "outputs": [],
   "source": [
    "## View Statistics\n",
    "\n",
    "\n"
   ]
  },
  {
   "cell_type": "code",
   "execution_count": null,
   "id": "2f4ba609-2698-4c7a-8ab1-67d8493ff5ab",
   "metadata": {},
   "outputs": [],
   "source": [
    "# View Top 10 Regions for Lafufu\n",
    "\n",
    "\n"
   ]
  },
  {
   "cell_type": "markdown",
   "id": "b6789912-3ad3-4ea2-95e7-d7a8adf18162",
   "metadata": {},
   "source": [
    "## What's Wrong with the Lafufu Dataset?"
   ]
  },
  {
   "cell_type": "markdown",
   "id": "1d020c4c-9439-474e-84be-e6e166a9896a",
   "metadata": {},
   "source": [
    "### Next Lesson: Cleaning Data"
   ]
  }
 ],
 "metadata": {
  "kernelspec": {
   "display_name": "Python 3 (ipykernel)",
   "language": "python",
   "name": "python3"
  },
  "language_info": {
   "codemirror_mode": {
    "name": "ipython",
    "version": 3
   },
   "file_extension": ".py",
   "mimetype": "text/x-python",
   "name": "python",
   "nbconvert_exporter": "python",
   "pygments_lexer": "ipython3",
   "version": "3.12.5"
  }
 },
 "nbformat": 4,
 "nbformat_minor": 5
}
