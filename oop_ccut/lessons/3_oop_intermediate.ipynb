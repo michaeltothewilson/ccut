{
 "cells": [
  {
   "cell_type": "markdown",
   "id": "5d5e6ac2-81a2-46c3-ba3c-72ddb7e003fb",
   "metadata": {},
   "source": [
    "# Intermediate OOP Concepts"
   ]
  },
  {
   "cell_type": "markdown",
   "id": "755b53ea-c81b-4af1-ba3e-bf23ca094036",
   "metadata": {},
   "source": [
    "## Encapsulation"
   ]
  },
  {
   "cell_type": "markdown",
   "id": "3bf5b758-ebe6-4381-9e6b-8a004c39ae07",
   "metadata": {},
   "source": [
    "### Public vs Private Members"
   ]
  },
  {
   "cell_type": "markdown",
   "id": "e12a9b43-20b0-4c97-af2f-5a96c2962516",
   "metadata": {},
   "source": [
    "### Getters and Setters"
   ]
  },
  {
   "cell_type": "markdown",
   "id": "04ed34ae-9026-4f2d-a224-28b20d4d009f",
   "metadata": {},
   "source": [
    "## Inheritance"
   ]
  },
  {
   "cell_type": "markdown",
   "id": "8463f235-74bb-4578-825f-538151fcafac",
   "metadata": {},
   "source": [
    "### Parent and Child Classes"
   ]
  },
  {
   "cell_type": "markdown",
   "id": "9ceece54-305a-48c6-9cec-e9ced60aae77",
   "metadata": {},
   "source": [
    "### Method Overriding"
   ]
  },
  {
   "cell_type": "markdown",
   "id": "bf3aae8c-0114-4f0c-881d-caf503d131e5",
   "metadata": {},
   "source": [
    "### `__super()__`"
   ]
  },
  {
   "cell_type": "markdown",
   "id": "a54847f3-26d5-4e53-b8d2-e0fc48d62f99",
   "metadata": {},
   "source": [
    "## Polymorphism"
   ]
  },
  {
   "cell_type": "markdown",
   "id": "4ee79045-030b-4bef-85ce-fb7928250ea9",
   "metadata": {},
   "source": [
    "### Duck Typing"
   ]
  },
  {
   "cell_type": "markdown",
   "id": "b6d1ec42-a094-4c77-a0be-b08047d5b68d",
   "metadata": {},
   "source": [
    "### Polymorphism with Inheritance"
   ]
  }
 ],
 "metadata": {
  "kernelspec": {
   "display_name": "Python 3 (ipykernel)",
   "language": "python",
   "name": "python3"
  },
  "language_info": {
   "codemirror_mode": {
    "name": "ipython",
    "version": 3
   },
   "file_extension": ".py",
   "mimetype": "text/x-python",
   "name": "python",
   "nbconvert_exporter": "python",
   "pygments_lexer": "ipython3",
   "version": "3.12.5"
  }
 },
 "nbformat": 4,
 "nbformat_minor": 5
}
