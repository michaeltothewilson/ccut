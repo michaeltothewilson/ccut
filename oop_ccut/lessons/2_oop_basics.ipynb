{
 "cells": [
  {
   "cell_type": "markdown",
   "id": "c390a783-7af0-476c-b856-873a65234b98",
   "metadata": {},
   "source": [
    "# Introduction to Object-Oriented Programming (OOP)"
   ]
  },
  {
   "cell_type": "markdown",
   "id": "312f3302-b029-4973-bc9a-b5cff4f16911",
   "metadata": {},
   "source": [
    "## What is OOP?"
   ]
  },
  {
   "cell_type": "markdown",
   "id": "d3430175-c54f-496d-928b-9894ff2b505f",
   "metadata": {},
   "source": [
    "### Paradigm Shift"
   ]
  },
  {
   "cell_type": "markdown",
   "id": "4655ac5d-7d2e-46a6-aa79-57019ab64daa",
   "metadata": {},
   "source": [
    "### Core Concepts"
   ]
  },
  {
   "cell_type": "markdown",
   "id": "735733b3-257d-45d4-8375-2d2769ab4e1a",
   "metadata": {},
   "source": [
    "## Classes and Objects"
   ]
  },
  {
   "cell_type": "markdown",
   "id": "6e20b517-e88c-4cd9-84f4-744bb25ce047",
   "metadata": {},
   "source": [
    "### Classes"
   ]
  },
  {
   "cell_type": "markdown",
   "id": "c0cb43c1-69dd-4d23-81c3-fd1b34611064",
   "metadata": {},
   "source": [
    "### Objects"
   ]
  },
  {
   "cell_type": "markdown",
   "id": "1fe939fb-d345-46df-b9d7-cb0a08ae34e7",
   "metadata": {},
   "source": [
    "### `__init__`"
   ]
  },
  {
   "cell_type": "markdown",
   "id": "599dd632-30c9-45c0-8c58-d0940ee3f795",
   "metadata": {},
   "source": [
    "## Attributes and Methods"
   ]
  },
  {
   "cell_type": "markdown",
   "id": "e1633a97-1c31-4494-b2f9-e4c9d6d9dd79",
   "metadata": {},
   "source": [
    "### Attributes"
   ]
  },
  {
   "cell_type": "markdown",
   "id": "93ac4eaf-516b-4f3b-adc2-02f42c6b1934",
   "metadata": {
    "editable": true,
    "slideshow": {
     "slide_type": ""
    },
    "tags": []
   },
   "source": [
    "### Methods"
   ]
  }
 ],
 "metadata": {
  "kernelspec": {
   "display_name": "Python 3 (ipykernel)",
   "language": "python",
   "name": "python3"
  },
  "language_info": {
   "codemirror_mode": {
    "name": "ipython",
    "version": 3
   },
   "file_extension": ".py",
   "mimetype": "text/x-python",
   "name": "python",
   "nbconvert_exporter": "python",
   "pygments_lexer": "ipython3",
   "version": "3.12.5"
  }
 },
 "nbformat": 4,
 "nbformat_minor": 5
}
