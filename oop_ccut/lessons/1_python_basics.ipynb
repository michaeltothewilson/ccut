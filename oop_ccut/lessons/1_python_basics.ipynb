{
 "cells": [
  {
   "cell_type": "markdown",
   "id": "fd64c716-84f5-4b87-a9cf-f8b8f8dc5c5e",
   "metadata": {},
   "source": [
    "# Python Fundamentals"
   ]
  },
  {
   "cell_type": "markdown",
   "id": "10af8dec-17a2-4116-8c18-8582a3fe1e1e",
   "metadata": {},
   "source": [
    "## What is Python\n",
    "\n",
    "<center><img src=\"../images/Gemini_Generated_Image_60a1b460a1b460a1.png\" width=50%></center>\n",
    "\n",
    "**Python is an easy to read, high-level, interpreted programming language.**\n",
    "\n",
    "* As an **interpreted language**, code is executed line by line by an interpreter.\n",
    "\n",
    "* Variables are **dynamically typed**, which means you don't have to explicitly declare the data type of a variable.\n",
    "\n",
    "* Python supports many programming styles such as:\n",
    "\n",
    "    * procedural\n",
    "    * object oriented\n",
    "    * functional\n",
    " \n",
    "**Python is pretty popular and is used in many different types of applications:**\n",
    "\n",
    "* web development\n",
    "* data science\n",
    "* game development\n",
    "* and more\n",
    "\n",
    "**In our 3 weeks together, we will learn Object Oriented Programming with Python.**\n",
    "\n",
    "But first, we go over the basics!"
   ]
  },
  {
   "cell_type": "markdown",
   "id": "af476adc-779b-45f0-a5c1-e6eedc44b24c",
   "metadata": {},
   "source": [
    "## Jupyter Notebook Basics\n",
    "\n",
    "Jupyter Notebook is a programming environment that combines code and text on one platform."
   ]
  },
  {
   "cell_type": "markdown",
   "id": "c517f17e-27b5-4a6d-8644-efd68bc0a3a0",
   "metadata": {},
   "source": [
    "### Cells\n",
    "\n",
    "Notebooks are made of cells:\n",
    "\n",
    "* **Code Cells:** where we will write and run code\n",
    "* **Markdown Cells:** these cells contain formatted text and images to explain our code"
   ]
  },
  {
   "cell_type": "markdown",
   "id": "e2c11546-fea9-4eb8-98ad-dc591126814c",
   "metadata": {},
   "source": [
    "### Execution:\n",
    "\n",
    "You can run a code in a few different ways:\n",
    "\n",
    "* clicking the `run` button (`▶️`)\n",
    "* pressing the `shift key` and `enter key`\n",
    "\n",
    "Try running the code in the cell below."
   ]
  },
  {
   "cell_type": "code",
   "execution_count": null,
   "id": "8afa4eed-9dab-4526-bf48-3688f64c3c59",
   "metadata": {},
   "outputs": [],
   "source": [
    "### Begin Example\n",
    "import this\n",
    "### End Example"
   ]
  },
  {
   "cell_type": "markdown",
   "id": "aec661e0-e6f1-44a8-bb15-684c3e24c50c",
   "metadata": {},
   "source": [
    "## Variables\n",
    "\n",
    "In this section we will get familiar with Variables in Python."
   ]
  },
  {
   "cell_type": "markdown",
   "id": "00cdb5d7-73a0-4426-b1d8-602e51d61712",
   "metadata": {},
   "source": [
    "### Declaring Variables\n",
    "\n",
    "__Syntax:__\n",
    "\n",
    "To declare a variable, write a **variable name** followed by the **assignment operator** (**`=`**) and **stored value**.\n",
    "\n",
    "**Syntax Example:**\n",
    "\n",
    "```python\n",
    "variable_name = value\n",
    "```"
   ]
  },
  {
   "cell_type": "markdown",
   "id": "7cb0d0c1-2aa1-4887-a1eb-a1bf716c0b3d",
   "metadata": {},
   "source": [
    "#### Variable Challenge\n",
    "\n",
    "In the cell below, declare the following variables:\n",
    "\n",
    "|variable name | value |\n",
    "|---|---|\n",
    "|name|\"pikachu\"|\n",
    "|kind|\"electric\"|\n",
    "|height|0.4|\n",
    "|weight|6|\n",
    "|hp|35|\n",
    "|attack|55|\n",
    "|defense|40|\n",
    "|speed|90|\n"
   ]
  },
  {
   "cell_type": "code",
   "execution_count": null,
   "id": "8259a048-0fda-41ed-9b3d-9d4fc11af42a",
   "metadata": {},
   "outputs": [],
   "source": [
    "### Begin Challenge\n",
    "\n",
    "\n",
    "\n",
    "\n",
    "\n",
    "\n",
    "\n",
    "\n",
    "### End Challenge"
   ]
  },
  {
   "cell_type": "code",
   "execution_count": null,
   "id": "0bb6be63-2661-4ac0-b13b-8e1816d33735",
   "metadata": {
    "editable": true,
    "slideshow": {
     "slide_type": ""
    },
    "tags": []
   },
   "outputs": [],
   "source": [
    "### Begin Test\n",
    "try:\n",
    "    assert name == \"pikachu\", \"Name is incorrect\"\n",
    "    assert kind == \"electric\", \"Kind is incorrect\"\n",
    "    assert height == 0.4, \"Height is incorrect\"\n",
    "    assert weight == 6, \"Weight is incorrect\"\n",
    "    assert hp == 35, \"HP is in correct\"\n",
    "    assert attack == 55, \"Defense is incorrect\"\n",
    "    assert defense == 40, \"Attack is incorrect\"\n",
    "    assert speed == 90, \"Speed is incorrect\"\n",
    "except AssertionError as e:\n",
    "    print(f\"❌ Test failed: {e}\")\n",
    "### End Test"
   ]
  },
  {
   "cell_type": "markdown",
   "id": "562127e1-5fa0-4548-8c8d-7f9d302db5c7",
   "metadata": {},
   "source": [
    "### Assigning Variables"
   ]
  },
  {
   "cell_type": "markdown",
   "id": "ad45286c-a422-46b7-bfe7-5f1bc7859234",
   "metadata": {},
   "source": [
    "### Data Types"
   ]
  },
  {
   "cell_type": "markdown",
   "id": "8b6760cd-145b-48bf-a5e2-b1b87055993d",
   "metadata": {},
   "source": [
    "## Control Flow and Operators"
   ]
  },
  {
   "cell_type": "markdown",
   "id": "954bde90-c44d-462c-b063-1ed1e7cf83cb",
   "metadata": {},
   "source": [
    "### Logic Operators"
   ]
  },
  {
   "cell_type": "markdown",
   "id": "d4498a36-c11b-4756-9086-cd31918f21fb",
   "metadata": {},
   "source": [
    "### Conditional Statements"
   ]
  },
  {
   "cell_type": "markdown",
   "id": "7af90e6e-8429-4491-a6fe-9bd4eb9f449a",
   "metadata": {},
   "source": [
    "### Loops"
   ]
  },
  {
   "cell_type": "markdown",
   "id": "4d4b8b9c-5f8a-43a1-8697-9c6b0ebb8f2f",
   "metadata": {},
   "source": [
    "## Functions"
   ]
  },
  {
   "cell_type": "markdown",
   "id": "fd7f4631-606f-4f42-a1ea-ae6e1d4606f2",
   "metadata": {},
   "source": [
    "### Defining Functions"
   ]
  },
  {
   "cell_type": "markdown",
   "id": "a04bb98d-3f1f-4a97-a381-81f140fe9a6f",
   "metadata": {},
   "source": [
    "### Calling Functions"
   ]
  },
  {
   "cell_type": "markdown",
   "id": "5d47b1dd-e702-445e-9325-0600c6525d1a",
   "metadata": {},
   "source": [
    "### Scope"
   ]
  },
  {
   "cell_type": "markdown",
   "id": "ffb960fb-50ee-4dfb-aff8-2c02119a6ae4",
   "metadata": {},
   "source": [
    "## Data Structures"
   ]
  },
  {
   "cell_type": "markdown",
   "id": "22dec078-9b63-4a3a-840e-786a072d71f9",
   "metadata": {},
   "source": [
    "### Lists"
   ]
  },
  {
   "cell_type": "markdown",
   "id": "4d4110d0-8c1f-4469-9884-8d30ea7401c5",
   "metadata": {},
   "source": [
    "### Tuples"
   ]
  },
  {
   "cell_type": "markdown",
   "id": "9a6296f7-cfeb-4fd4-acd7-830b1f1b98d3",
   "metadata": {},
   "source": [
    "### Dictionaries"
   ]
  },
  {
   "cell_type": "markdown",
   "id": "1cfe7f03-56a9-4e3f-bbb7-692e4d43198c",
   "metadata": {},
   "source": [
    "### Sets"
   ]
  }
 ],
 "metadata": {
  "kernelspec": {
   "display_name": "Python 3 (ipykernel)",
   "language": "python",
   "name": "python3"
  },
  "language_info": {
   "codemirror_mode": {
    "name": "ipython",
    "version": 3
   },
   "file_extension": ".py",
   "mimetype": "text/x-python",
   "name": "python",
   "nbconvert_exporter": "python",
   "pygments_lexer": "ipython3",
   "version": "3.12.5"
  }
 },
 "nbformat": 4,
 "nbformat_minor": 5
}
