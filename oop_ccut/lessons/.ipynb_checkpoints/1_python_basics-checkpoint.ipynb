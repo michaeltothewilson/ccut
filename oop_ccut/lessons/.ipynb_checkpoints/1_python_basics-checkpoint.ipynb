{
 "cells": [
  {
   "cell_type": "markdown",
   "id": "fd64c716-84f5-4b87-a9cf-f8b8f8dc5c5e",
   "metadata": {},
   "source": [
    "# Python Fundamentals"
   ]
  },
  {
   "cell_type": "markdown",
   "id": "10af8dec-17a2-4116-8c18-8582a3fe1e1e",
   "metadata": {},
   "source": [
    "## What is Python\n",
    "\n",
    "<center><img src=\"../images/Gemini_Generated_Image_60a1b460a1b460a1.png\" width=50%></center>\n",
    "\n",
    "**Python is an easy to read, high-level, interpreted programming language.**\n",
    "\n",
    "* As an **interpreted language**, code is executed line by line by an interpreter.\n",
    "\n",
    "* Variables are **dynamically typed**, which means you don't have to explicitly declare the data type of a variable.\n",
    "\n",
    "* Python supports many programming styles such as:\n",
    "\n",
    "    * procedural\n",
    "    * object oriented\n",
    "    * functional\n",
    " \n",
    "**Python is pretty popular and is used in many different types of applications:**\n",
    "\n",
    "* web development\n",
    "* data science\n",
    "* game development\n",
    "* and more\n",
    "\n",
    "**In our 3 weeks together, we will learn Object Oriented Programming with Python.**\n",
    "\n",
    "But first, we go over the basics!"
   ]
  },
  {
   "cell_type": "markdown",
   "id": "af476adc-779b-45f0-a5c1-e6eedc44b24c",
   "metadata": {},
   "source": [
    "## Jupyter Notebook Basics\n",
    "\n",
    "Jupyter Notebook is a programming environment that combines code and text on one platform."
   ]
  },
  {
   "cell_type": "markdown",
   "id": "c517f17e-27b5-4a6d-8644-efd68bc0a3a0",
   "metadata": {},
   "source": [
    "### Cells\n",
    "\n",
    "Notebooks are made of cells:\n",
    "\n",
    "* **Code Cells:** where we will write and run code\n",
    "* **Markdown Cells:** these cells contain formatted text and images to explain our code"
   ]
  },
  {
   "cell_type": "markdown",
   "id": "e2c11546-fea9-4eb8-98ad-dc591126814c",
   "metadata": {},
   "source": [
    "### Execution:\n",
    "\n",
    "You can run a code in a few different ways:\n",
    "\n",
    "* clicking the `run` button (`▶️`)\n",
    "* pressing the `shift key` and `enter key`\n",
    "\n",
    "Try running the code in the cell below."
   ]
  },
  {
   "cell_type": "code",
   "execution_count": 1,
   "id": "8afa4eed-9dab-4526-bf48-3688f64c3c59",
   "metadata": {},
   "outputs": [
    {
     "name": "stdout",
     "output_type": "stream",
     "text": [
      "The Zen of Python, by Tim Peters\n",
      "\n",
      "Beautiful is better than ugly.\n",
      "Explicit is better than implicit.\n",
      "Simple is better than complex.\n",
      "Complex is better than complicated.\n",
      "Flat is better than nested.\n",
      "Sparse is better than dense.\n",
      "Readability counts.\n",
      "Special cases aren't special enough to break the rules.\n",
      "Although practicality beats purity.\n",
      "Errors should never pass silently.\n",
      "Unless explicitly silenced.\n",
      "In the face of ambiguity, refuse the temptation to guess.\n",
      "There should be one-- and preferably only one --obvious way to do it.\n",
      "Although that way may not be obvious at first unless you're Dutch.\n",
      "Now is better than never.\n",
      "Although never is often better than *right* now.\n",
      "If the implementation is hard to explain, it's a bad idea.\n",
      "If the implementation is easy to explain, it may be a good idea.\n",
      "Namespaces are one honking great idea -- let's do more of those!\n"
     ]
    }
   ],
   "source": [
    "### Begin Example\n",
    "import this\n",
    "### End Example"
   ]
  },
  {
   "cell_type": "markdown",
   "id": "aec661e0-e6f1-44a8-bb15-684c3e24c50c",
   "metadata": {},
   "source": [
    "## Variables\n",
    "\n",
    "In this section we will get familiar with Variables in Python."
   ]
  },
  {
   "cell_type": "markdown",
   "id": "00cdb5d7-73a0-4426-b1d8-602e51d61712",
   "metadata": {},
   "source": [
    "### Assigning Variables\n",
    "\n",
    "__Syntax:__\n",
    "\n",
    "To assign a variable, write a **variable name** followed by the **assignment operator** (**`=`**) and **stored value**.\n",
    "\n",
    "**Syntax Example:**\n",
    "\n",
    "```python\n",
    "variable_name = value\n",
    "```"
   ]
  },
  {
   "cell_type": "markdown",
   "id": "7cb0d0c1-2aa1-4887-a1eb-a1bf716c0b3d",
   "metadata": {},
   "source": [
    "#### Variable Challenge\n",
    "\n",
    "In the cell below, declare the following variables:\n",
    "\n",
    "|variable name | value |\n",
    "|---|---|\n",
    "|name|\"pikachu\"|\n",
    "|kind|\"electric\"|\n",
    "|height|0.4|\n",
    "|weight|6|\n",
    "|hp|35|\n",
    "|attack|55|\n",
    "|defense|40|\n",
    "|speed|90|\n"
   ]
  },
  {
   "cell_type": "code",
   "execution_count": null,
   "id": "8259a048-0fda-41ed-9b3d-9d4fc11af42a",
   "metadata": {},
   "outputs": [],
   "source": [
    "### Begin Challenge\n",
    "\n",
    "\n",
    "\n",
    "\n",
    "\n",
    "\n",
    "\n",
    "\n",
    "### End Challenge"
   ]
  },
  {
   "cell_type": "code",
   "execution_count": null,
   "id": "0bb6be63-2661-4ac0-b13b-8e1816d33735",
   "metadata": {
    "editable": true,
    "slideshow": {
     "slide_type": ""
    },
    "tags": []
   },
   "outputs": [],
   "source": [
    "### Begin Test\n",
    "try:\n",
    "    assert name == \"pikachu\", \"Name is incorrect\"\n",
    "    assert kind == \"electric\", \"Kind is incorrect\"\n",
    "    assert height == 0.4, \"Height is incorrect\"\n",
    "    assert weight == 6, \"Weight is incorrect\"\n",
    "    assert hp == 35, \"HP is in correct\"\n",
    "    assert attack == 55, \"Defense is incorrect\"\n",
    "    assert defense == 40, \"Attack is incorrect\"\n",
    "    assert speed == 90, \"Speed is incorrect\"\n",
    "except AssertionError as e:\n",
    "    print(f\"❌ Test failed: {e}\")\n",
    "### End Test"
   ]
  },
  {
   "cell_type": "markdown",
   "id": "ad45286c-a422-46b7-bfe7-5f1bc7859234",
   "metadata": {},
   "source": [
    "### Data Types\n",
    "\n",
    "Python has the following data types (and more):\n",
    "\n",
    "__Integer (`int`)__: \n",
    "Numbers without a decimal points\n",
    "\n",
    "Examples: \n",
    "\n",
    "* `10`\n",
    "* `-5`\n",
    "* `1000`\n",
    "\n",
    "__Floating-Point Numbers (`float`)__: \n",
    "Numbers with a decimal points. \n",
    "\n",
    "Examples: \n",
    "\n",
    "* `10.0`\n",
    "* `3.15`\n",
    "* `-0.5`\n",
    "\n",
    "\n",
    "__Strings (`str`):__ \n",
    "Text enclosed in single quotes (`'`) or double quotes (`\"`).\n",
    "\n",
    "Examples:\n",
    "\n",
    "* `\"Hello World\"`\n",
    "* `'Portland State University'`\n",
    "* `\"CCUT\"`"
   ]
  },
  {
   "cell_type": "markdown",
   "id": "8b6760cd-145b-48bf-a5e2-b1b87055993d",
   "metadata": {},
   "source": [
    "## Control Flow and Operators"
   ]
  },
  {
   "cell_type": "markdown",
   "id": "954bde90-c44d-462c-b063-1ed1e7cf83cb",
   "metadata": {},
   "source": [
    "### Logic Operators"
   ]
  },
  {
   "cell_type": "markdown",
   "id": "d4498a36-c11b-4756-9086-cd31918f21fb",
   "metadata": {},
   "source": [
    "### Conditional Statements"
   ]
  },
  {
   "cell_type": "markdown",
   "id": "7af90e6e-8429-4491-a6fe-9bd4eb9f449a",
   "metadata": {},
   "source": [
    "### Loops"
   ]
  },
  {
   "cell_type": "markdown",
   "id": "4d4b8b9c-5f8a-43a1-8697-9c6b0ebb8f2f",
   "metadata": {},
   "source": [
    "## Functions"
   ]
  },
  {
   "cell_type": "markdown",
   "id": "fd7f4631-606f-4f42-a1ea-ae6e1d4606f2",
   "metadata": {},
   "source": [
    "### Defining Functions"
   ]
  },
  {
   "cell_type": "markdown",
   "id": "a04bb98d-3f1f-4a97-a381-81f140fe9a6f",
   "metadata": {},
   "source": [
    "### Calling Functions"
   ]
  },
  {
   "cell_type": "markdown",
   "id": "5d47b1dd-e702-445e-9325-0600c6525d1a",
   "metadata": {},
   "source": [
    "### Scope"
   ]
  },
  {
   "cell_type": "markdown",
   "id": "ffb960fb-50ee-4dfb-aff8-2c02119a6ae4",
   "metadata": {},
   "source": [
    "## Data Structures"
   ]
  },
  {
   "cell_type": "markdown",
   "id": "22dec078-9b63-4a3a-840e-786a072d71f9",
   "metadata": {},
   "source": [
    "### Lists"
   ]
  },
  {
   "cell_type": "code",
   "execution_count": null,
   "id": "4bdd1f9e-b4d1-45c2-aab4-48a9481e2816",
   "metadata": {},
   "outputs": [],
   "source": []
  },
  {
   "cell_type": "markdown",
   "id": "39a7ca2b-fb80-4729-b523-09cf02f043ff",
   "metadata": {},
   "source": [
    "#### Squirtle's Moves List\n",
    "\n",
    "Squirtle knows four moves.\n",
    "\n",
    "1. Create a list called `squirtle_moves`\n",
    "2. Give the list the followings strings:\n",
    "    * `\"Tackle\"`\n",
    "    * `\"Water Gun\"`\n",
    "    * `\"Tail Whip\"`\n",
    "    * `\"Bubble\"`\n",
    "3. Print the `squirtle_moves` list\n",
    "4. Print the 3rd element in the list."
   ]
  },
  {
   "cell_type": "code",
   "execution_count": null,
   "id": "1dbbf997-e4c4-4777-8f7c-be815114556d",
   "metadata": {},
   "outputs": [],
   "source": [
    "### Begin Challenge\n",
    "\n",
    "\n",
    "\n",
    "### End Challenge"
   ]
  },
  {
   "cell_type": "code",
   "execution_count": null,
   "id": "a640c42f-5219-4364-b9ac-5c3e74f3c764",
   "metadata": {},
   "outputs": [],
   "source": [
    "### Begin Test\n",
    "assert len(squirtle_moves) == 4, \"The list should have 4 moves.\"\n",
    "assert squirtle_moves[0] == \"Tackle\", \"The first move should be 'Tackle'.\"\n",
    "assert \"Water Gun\" in squirtle_moves, \"The list should contain 'Water Gun'.\"\n",
    "\n",
    "print(\"All tests passed\")\n",
    "\n",
    "### End Test"
   ]
  },
  {
   "cell_type": "markdown",
   "id": "4d4110d0-8c1f-4469-9884-8d30ea7401c5",
   "metadata": {},
   "source": [
    "### Tuples"
   ]
  },
  {
   "cell_type": "markdown",
   "id": "47c6a0da-7e6d-42d1-9383-e14060be18d0",
   "metadata": {},
   "source": [
    "#### Challenge: Fishing\n",
    "\n",
    "1. Create a variable called `fishing_encounters`.\n",
    "2. Assign it a tuple containing the strings:\n",
    "    * \"Magikarp\"\n",
    "    * \"Poliwag\"\n",
    "    * \"Dratini\"\n",
    "3. Print `fishing_encounters`.\n",
    "  "
   ]
  },
  {
   "cell_type": "code",
   "execution_count": null,
   "id": "03abbd30-11ee-40cc-bfb6-1f802d05fe77",
   "metadata": {},
   "outputs": [],
   "source": [
    "### Begin Tests\n",
    "# Assert test to check the data type\n",
    "assert isinstance(fishing_encounters, tuple), \"The variable should be a tuple.\"\n",
    "\n",
    "# Assert test to check the length\n",
    "assert len(fishing_encounters) == 3, \"The tuple should have exactly 3 items.\"\n",
    "\n",
    "# Assert test to check specific content\n",
    "assert fishing_encounters[0] == \"Magikarp\", \"The first item should be 'Magikarp'.\"\n",
    "assert \"Dratini\" in fishing_encounters, \"The tuple should contain 'Dratini'.\"\n",
    "\n",
    "print(\"All tuple tests passed!\") \n",
    "\n",
    "### End Tests"
   ]
  },
  {
   "cell_type": "markdown",
   "id": "fbf0bcfc-ae3d-42dc-80f9-a531b8ad2436",
   "metadata": {},
   "source": [
    "#### Bonus Challenge: Reassign Tuple\n",
    "\n",
    "1. Try to change the first item in the tuple from `\"Magikarp\"` to `\"Gyarados\"`.\n",
    "2. Your code should look something like:\n",
    "\n",
    "```python\n",
    "fishing_encounters[0] = \"Gyarados\"\n",
    "```\n",
    "3. Run the code and observe the error message."
   ]
  },
  {
   "cell_type": "code",
   "execution_count": null,
   "id": "201600d0-fbdd-436d-a1da-bac98e2c52b8",
   "metadata": {},
   "outputs": [],
   "source": [
    "### Begin Bonus Challenge\n",
    "\n",
    "\n",
    "\n",
    "\n",
    "\n",
    "\n",
    "\n",
    "\n",
    "### End Bonus Challenge"
   ]
  },
  {
   "cell_type": "markdown",
   "id": "9a6296f7-cfeb-4fd4-acd7-830b1f1b98d3",
   "metadata": {},
   "source": [
    "### Dictionaries"
   ]
  },
  {
   "cell_type": "markdown",
   "id": "77e7ce57-4259-4fa1-b517-3154d41d217a",
   "metadata": {},
   "source": [
    "#### Squirtle Stats Challenge\n",
    "\n",
    "1. Create a dictionary called `squirtle_stats`.\n",
    "2. Assign the following key-value pairs:\n",
    "    * `\"hp\"`: `44`\n",
    "    * `\"attack\"`: `48`\n",
    "    * `\"defense\"`: `65`\n",
    "    * `\"special_attack\"`: `50`\n",
    "    * `\"special_defense\"`: `64`\n",
    "    * `\"speed\"`: `43`\n",
    "3. Print the  `squirtle_stats` dictionary"
   ]
  },
  {
   "cell_type": "code",
   "execution_count": null,
   "id": "d298bae4-c431-4a96-be5a-080c5b1ad555",
   "metadata": {},
   "outputs": [],
   "source": [
    "### Begin Challenge\n",
    "\n",
    "\n",
    "\n",
    "\n",
    "\n",
    "\n",
    "### End Challenge"
   ]
  },
  {
   "cell_type": "code",
   "execution_count": null,
   "id": "08d72f61-8858-4f99-930c-383c87343116",
   "metadata": {},
   "outputs": [],
   "source": [
    "### Begin Test\n",
    "\n",
    "\n",
    "\n",
    "\n",
    "### End Test"
   ]
  },
  {
   "cell_type": "markdown",
   "id": "1cfe7f03-56a9-4e3f-bbb7-692e4d43198c",
   "metadata": {},
   "source": [
    "### Sets"
   ]
  },
  {
   "cell_type": "markdown",
   "id": "7159bfda-fd4b-4da4-a13e-7e2a5cb405cb",
   "metadata": {},
   "source": [
    "#### Challenge: Electric Type Set\n",
    "\n",
    "1. Create a variable called `electric_pokemon`\n",
    "2. Assign the set the following Pokemon names as strings:\n",
    "    * `\"Pikachu\"`\n",
    "    * `\"Jolteon\"`\n",
    "    * `\"Zapdos\"`\n",
    "    * `\"Magneton\"`\n",
    "    * `\"Ampharos\"`\n",
    "3. Print `electric_pokemon`"
   ]
  },
  {
   "cell_type": "code",
   "execution_count": null,
   "id": "27ebd632-937e-4af0-81ac-3188d29aafbc",
   "metadata": {},
   "outputs": [],
   "source": [
    "### Begin Challenge\n",
    "\n",
    "\n",
    "\n",
    "\n",
    "### End Challenge"
   ]
  },
  {
   "cell_type": "code",
   "execution_count": null,
   "id": "edeb40c7-3124-4efd-9d1c-536bc941870a",
   "metadata": {},
   "outputs": [],
   "source": [
    "### Begin Test\n",
    "# Assert test to check the data type\n",
    "assert isinstance(electric_pokemon, set), \"The variable should be a set.\"\n",
    "\n",
    "# Assert test to check the size and content of the set\n",
    "assert len(electric_pokemon) == 5, \"The set should contain exactly 5 Pokémon.\"\n",
    "assert \"Pikachu\" in electric_pokemon, \"Pikachu should be in the set.\"\n",
    "assert \"Jolteon\" in electric_pokemon, \"Jolteon should be in the set.\"\n",
    "assert \"Zapdos\" in electric_pokemon, \"Zapdos should be in the set.\"\n",
    "assert \"Magneton\" in electric_pokemon, \"Magneton should be in the set.\"\n",
    "assert \"Ampharos\" in electric_pokemon, \"Ampharos should be in the set.\"\n",
    "\n",
    "print(\"All tests passed!\")\n",
    "### End Test"
   ]
  }
 ],
 "metadata": {
  "kernelspec": {
   "display_name": "Python 3 (ipykernel)",
   "language": "python",
   "name": "python3"
  },
  "language_info": {
   "codemirror_mode": {
    "name": "ipython",
    "version": 3
   },
   "file_extension": ".py",
   "mimetype": "text/x-python",
   "name": "python",
   "nbconvert_exporter": "python",
   "pygments_lexer": "ipython3",
   "version": "3.12.5"
  }
 },
 "nbformat": 4,
 "nbformat_minor": 5
}
