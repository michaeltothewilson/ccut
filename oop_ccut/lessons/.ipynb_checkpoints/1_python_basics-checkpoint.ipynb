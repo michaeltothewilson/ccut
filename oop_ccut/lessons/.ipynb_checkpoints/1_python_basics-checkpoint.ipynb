{
 "cells": [
  {
   "cell_type": "markdown",
   "id": "fd64c716-84f5-4b87-a9cf-f8b8f8dc5c5e",
   "metadata": {},
   "source": [
    "# Python Fundamentals"
   ]
  },
  {
   "cell_type": "markdown",
   "id": "10af8dec-17a2-4116-8c18-8582a3fe1e1e",
   "metadata": {},
   "source": [
    "## What is Python\n",
    "\n",
    "<center><img src=\"../images/Gemini_Generated_Image_7beyu07beyu07bey.png\" width=50%></center>\n",
    "\n",
    "**Python is an easy to read, high-level, interpreted programming language.**\n",
    "\n",
    "* As an **interpreted language**, code is executed line by line by an interpreter.\n",
    "\n",
    "* Variables are **dynamically typed**, which means you don't have to explicitly declare the data type of a variable.\n",
    "\n",
    "* Python supports many programming styles such as:\n",
    "\n",
    "    * procedural\n",
    "    * object oriented\n",
    "    * functional\n",
    " \n",
    "**Python is pretty popular and is used in many different types of applications:**\n",
    "\n",
    "* web development\n",
    "* data science\n",
    "* game development\n",
    "* and more\n",
    "\n",
    "**In our 3 weeks together, we will learn Object Oriented Programming with Python.**\n",
    "\n",
    "But first, we go over the basics!"
   ]
  },
  {
   "cell_type": "markdown",
   "id": "af476adc-779b-45f0-a5c1-e6eedc44b24c",
   "metadata": {},
   "source": [
    "## Jupyter Notebook Basics\n",
    "\n",
    "Jupyter Notebook is a programming environment that combines code and text on one platform."
   ]
  },
  {
   "cell_type": "markdown",
   "id": "c517f17e-27b5-4a6d-8644-efd68bc0a3a0",
   "metadata": {},
   "source": [
    "### Cells\n",
    "\n",
    "Notebooks are made of cells:\n",
    "\n",
    "* **Code Cells:** where we will write and run code\n",
    "* **Markdown Cells:** these cells contain formatted text and images to explain our code"
   ]
  },
  {
   "cell_type": "markdown",
   "id": "e2c11546-fea9-4eb8-98ad-dc591126814c",
   "metadata": {},
   "source": [
    "### Execution:\n",
    "\n",
    "You can run a code in a few different ways:\n",
    "\n",
    "* clicking the `run` button (`▶️`)\n",
    "* pressing the `shift key` and `enter key`\n",
    "\n",
    "Try running the code in the cell below."
   ]
  },
  {
   "cell_type": "code",
   "execution_count": null,
   "id": "8afa4eed-9dab-4526-bf48-3688f64c3c59",
   "metadata": {},
   "outputs": [],
   "source": [
    "### Begin Example\n",
    "import this\n",
    "### End Example"
   ]
  },
  {
   "cell_type": "markdown",
   "id": "aec661e0-e6f1-44a8-bb15-684c3e24c50c",
   "metadata": {},
   "source": [
    "## Variables\n",
    "\n",
    "<center><img src=\"../images/pexels-piotrbaranowski-22845394.jpg\" width=50%></center>\n",
    "In this section we will get familiar with Variables in Python."
   ]
  },
  {
   "cell_type": "markdown",
   "id": "00cdb5d7-73a0-4426-b1d8-602e51d61712",
   "metadata": {},
   "source": [
    "### Assigning Variables\n",
    "\n",
    "__Syntax:__\n",
    "\n",
    "To assign a variable, write a **variable name** followed by the **assignment operator** (**`=`**) and **stored value**.\n",
    "\n",
    "**Syntax Example:**\n",
    "\n",
    "```python\n",
    "variable_name = value\n",
    "```"
   ]
  },
  {
   "cell_type": "markdown",
   "id": "7cb0d0c1-2aa1-4887-a1eb-a1bf716c0b3d",
   "metadata": {},
   "source": [
    "#### Challenge: Pikachu Variables\n",
    "\n",
    "In the cell below, assign the following variables:\n",
    "\n",
    "* `name` set to `\"pikachu\"`\n",
    "* `kind` set to `\"electric\"`\n",
    "* `height` set to `0.4`\n",
    "* `weight` set to `6`\n",
    "* `hp` set to `35`\n",
    "* `attack` set to `55`\n",
    "* `defense` set to `40`\n",
    "* `speed` set to `90`\n"
   ]
  },
  {
   "cell_type": "code",
   "execution_count": null,
   "id": "8259a048-0fda-41ed-9b3d-9d4fc11af42a",
   "metadata": {},
   "outputs": [],
   "source": [
    "### Begin Challenge\n",
    "\n",
    "\n",
    "\n",
    "\n",
    "\n",
    "\n",
    "\n",
    "\n",
    "\n",
    "### End Challenge"
   ]
  },
  {
   "cell_type": "markdown",
   "id": "ad45286c-a422-46b7-bfe7-5f1bc7859234",
   "metadata": {},
   "source": [
    "### Data Types\n",
    "\n",
    "Python has the following data types (and more):\n",
    "\n",
    "__Integer (`int`)__: \n",
    "Numbers without a decimal points\n",
    "\n",
    "Examples: \n",
    "\n",
    "* `10`\n",
    "* `-5`\n",
    "* `1000`\n",
    "\n",
    "__Floating-Point Numbers (`float`)__: \n",
    "Numbers with a decimal points. \n",
    "\n",
    "Examples: \n",
    "\n",
    "* `10.0`\n",
    "* `3.15`\n",
    "* `-0.5`\n",
    "\n",
    "\n",
    "__Strings (`str`):__ \n",
    "Text enclosed in single quotes (`'`) or double quotes (`\"`).\n",
    "\n",
    "Examples:\n",
    "\n",
    "* `\"Hello World\"`\n",
    "* `'Portland State University'`\n",
    "* `\"CCUT\"`\n",
    "\n",
    "__Booleans (`bool`):__\n",
    "Data that represents one of two values:\n",
    "\n",
    "* `True`\n",
    "* `False`"
   ]
  },
  {
   "cell_type": "markdown",
   "id": "8b6760cd-145b-48bf-a5e2-b1b87055993d",
   "metadata": {},
   "source": [
    "## Control Flow and Operators\n",
    "<center><img src=\"../images/pexels-abhishek-rana-422784-4188296 (1).jpg\" width=50%></center>\n",
    "\n",
    "Control flow is the order in which a program's code is executed. It allows you to control the sequence of operations, make decisions, and repeat actions. \n",
    "\n",
    "Without control flow, a program would simply run from top to bottom and then stop."
   ]
  },
  {
   "cell_type": "markdown",
   "id": "514f33d8-4885-4f2e-acc1-d852bf0a5423",
   "metadata": {},
   "source": [
    "### Comparison Operators\n",
    "\n",
    "Comparison operators are used in programming to compare two values. They always return a Boolean value: either `True` or `False`. \n",
    "\n",
    "They are often used within conditional statements (`if`, `elif`) and loops.\n",
    "\n",
    "__Types of Comparison Operators__\n",
    "\n",
    "* __Equal to (`==`)__: checks if two values are the same.\n",
    "    * Example: `5 == 5` returns `True`\n",
    "    * Example: `5 == 6` returns `False`\n",
    "</br>\n",
    "</br>\n",
    "\n",
    "* __Not equal to (`!=`)__: Checks if two values are different.\n",
    "    * Example:  `5 != 6` returns `True`\n",
    "    * Example:  `5 != 5` returns `False`\n",
    "</br>\n",
    "</br>\n",
    "\n",
    "* __Greater than (`>`)__: Checks if the left value is greater than the right value.\n",
    "    * Example:  `10 > 5` returns `True`\n",
    "</br>\n",
    "</br>\n",
    "\n",
    "* __Less than (`<`)__: Checks if the left value is less than the right value.\n",
    "    * Example:  `5 < 10` returns `True`\n",
    "</br>\n",
    "</br>\n",
    "\n",
    "* __Greater than or equal to (`>=`)__: Checks if the left value is greater than or equal to the right value.\n",
    "    * Example:  `10 >= 10` returns `True`\n",
    "</br>\n",
    "</br>\n",
    "\n",
    "* __Less than or equal to (`<=`)__: Checks if the left value is less than or equal to the right value.\n",
    "    * Example:  `5 <= 5` returns `True`  "
   ]
  },
  {
   "cell_type": "code",
   "execution_count": null,
   "id": "62a6a4ad-b8b7-45ec-aa39-98b5628e9bb1",
   "metadata": {},
   "outputs": [],
   "source": [
    "### Comparrison operators in Python\n",
    "\n",
    "\n",
    "\n",
    "\n",
    "\n",
    "\n",
    "\n",
    "\n",
    "### End Example"
   ]
  },
  {
   "cell_type": "markdown",
   "id": "d4498a36-c11b-4756-9086-cd31918f21fb",
   "metadata": {},
   "source": [
    "### Condition Statements\n",
    "\n",
    "Conditional statements are a fundamental part of programming that allow you to execute different blocks of code based on whether a condition is `True` or `False`. \n",
    "\n",
    "They enable your program to make decisions."
   ]
  },
  {
   "cell_type": "markdown",
   "id": "7eb58ca5-1e7c-4012-a251-27008f4bddad",
   "metadata": {},
   "source": [
    "#### The `if` Statement\n",
    "\n",
    "The `if` statement is the most basic conditional statement. It checks a condition and, if that condition is `True`, it executes the code block indented below it.\n",
    "\n",
    "__Syntax__:\n",
    "\n",
    "```python\n",
    "if condition:\n",
    "    # Code to run if the condition is True\n",
    "```"
   ]
  },
  {
   "cell_type": "code",
   "execution_count": null,
   "id": "c270eaef-1fa0-4171-8e2b-6998cf43fea2",
   "metadata": {},
   "outputs": [],
   "source": [
    "### Begin Code Example\n",
    "pokemon_hp = 10\n",
    "\n",
    "if pokemon_hp <= 20:\n",
    "    print(\"Use a Potion!\")\n",
    "### End Code Example"
   ]
  },
  {
   "cell_type": "markdown",
   "id": "d7dffd05-1c82-4d6f-86a1-69e5b4d515f4",
   "metadata": {},
   "source": [
    "#### The `else` Statement\n",
    "\n",
    "The `else` statement is used in conjunction with an `if` statement. \n",
    "\n",
    "It provides a fallback for when the `if` condition is `False`. \n",
    "\n",
    "The code block under else will be executed only if the `if` condition is not met.\n",
    "\n",
    "__Syntax__:\n",
    "\n",
    "```python\n",
    "if condition:\n",
    "    # Code to run if the condition is True\n",
    "else:\n",
    "    # Code to run if the condition is False\n",
    "```"
   ]
  },
  {
   "cell_type": "code",
   "execution_count": null,
   "id": "ee0ddec1-e23a-4aae-b1df-146a470672b3",
   "metadata": {},
   "outputs": [],
   "source": [
    "### Begin Code Example\n",
    "pokemon_hp = 50\n",
    "\n",
    "if pokemon_hp <= 20:\n",
    "    print(\"Use a Potion!\")\n",
    "else:\n",
    "    print(\"Your Pokemon is healthy!\")\n",
    "### End Code Example"
   ]
  },
  {
   "cell_type": "markdown",
   "id": "954bde90-c44d-462c-b063-1ed1e7cf83cb",
   "metadata": {},
   "source": [
    "### Logic Operators\n",
    "<center><img src=\"../images/pexels-caleboquendo-7772561.jpg\" width=50%></center>\n",
    "\n",
    "Logic operators are used to combine and evaluate Boolean values."
   ]
  },
  {
   "cell_type": "markdown",
   "id": "ffaf4784-d4a0-411f-82ec-910185f51285",
   "metadata": {},
   "source": [
    "#### `and` Operator\n",
    "\n",
    "`and` returns `True` if both conditions it connects are `True`.\n",
    "\n",
    "If either condition is `False`, the entire statement is `False`.\n",
    "\n",
    "__Syntax__:\n",
    "```python\n",
    "if condition_a and condition_b:\n",
    "    # Code to run if both condition_a and condition_b are True\n",
    "```"
   ]
  },
  {
   "cell_type": "code",
   "execution_count": null,
   "id": "51f53c30-4df9-4cb0-b488-0a0f8cc78fc9",
   "metadata": {},
   "outputs": [],
   "source": [
    "### Code Example\n",
    "pokemon_type = \"Grass\"\n",
    "pokemon_level = 20\n",
    "\n",
    "if pokemon_type == \"Fire\" and pokemon_level >= 15:\n",
    "    print(\"Your Pokemon can now learn Flamethrower!\")\n",
    "### End Code Example"
   ]
  },
  {
   "cell_type": "markdown",
   "id": "d7a4ffd0-c087-4577-8f49-8f56791f07aa",
   "metadata": {},
   "source": [
    "#### `or` Operator\n",
    "\n",
    "`or` returns True if at least one of the conditions it connects is `True`.\n",
    "\n",
    "The entire statement is `False` only when all conditions are `False`.\n",
    "\n",
    "__Syntax__:\n",
    "```python\n",
    "if condition_a or condition_b:\n",
    "    # Code to run if either condition_a or condition_b is True\n",
    "```"
   ]
  },
  {
   "cell_type": "code",
   "execution_count": null,
   "id": "a390132c-de5e-4800-a68f-c85e56ed3291",
   "metadata": {},
   "outputs": [],
   "source": [
    "### Code Example\n",
    "pokemon_hp = 10\n",
    "has_status_condition = False\n",
    "\n",
    "if pokemon_hp <= 20 or has_status_condition == True:\n",
    "    print(\"Use a healing item!\")\n",
    "### Code Example"
   ]
  },
  {
   "cell_type": "markdown",
   "id": "48de21e2-fdbd-47ac-afb9-4f2c3456b11f",
   "metadata": {},
   "source": [
    "#### `not` Operator\n",
    "\n",
    "`not` reverses the Boolean value of a condition.\n",
    "\n",
    "`Not` turns: \n",
    "* `True` into `False`\n",
    "* `False` into `True`"
   ]
  },
  {
   "cell_type": "code",
   "execution_count": null,
   "id": "8f7ab4bf-efa4-43e4-9def-984323824294",
   "metadata": {},
   "outputs": [],
   "source": [
    "### Code Example\n",
    "is_caught = False\n",
    "\n",
    "if not is_caught:\n",
    "    print(\"Throw a Poke Ball!\")\n",
    "### Code Example"
   ]
  },
  {
   "cell_type": "markdown",
   "id": "e836c26a-81be-4275-be72-4f5baa77c0d6",
   "metadata": {},
   "source": [
    "#### Challenge: Battle Conditions\n",
    "\n",
    "1. Create two variables:\n",
    "\n",
    "    * `attacker_type` set to `\"Electric\"`\n",
    "    * `defender_type` set to `\"Water\"`\n",
    "\n",
    "2. Create a new variable called `is_raining` and set it to `True`.\n",
    "\n",
    "3. Write a series of conditional statements (`if`, `elif`, `else`) to determine the outcome:\n",
    "\n",
    "    * If `is_raining` is `True` and `attacker_type` is `\"Water\"`, print `\"Boosted!\"`\n",
    "\n",
    "    * Else, if `attacker_type` is `\"Electric\"` AND `defender_type` is `\"Water\"`, print `\"Super Effective!\"`\n",
    "\n",
    "    * Else, if `attacker_type` is `\"Water\"` AND `defender_type` is `\"Grass\"`, print `\"Not Very Effective...\"`\n",
    "\n",
    "* For any other combination, print `\"Normal.\"`"
   ]
  },
  {
   "cell_type": "markdown",
   "id": "7af90e6e-8429-4491-a6fe-9bd4eb9f449a",
   "metadata": {},
   "source": [
    "### Loops\n",
    "<center><img src=\"../images/pexels-anton-8100-243698.jpg\" width=50%></center>\n",
    "\n",
    "Loops allow you to repeat a block of code multiple times without having to write it out over and over again. "
   ]
  },
  {
   "cell_type": "markdown",
   "id": "f8fb279c-cb47-479f-94bf-ea0df2c4ddaf",
   "metadata": {},
   "source": [
    "#### `for` Loops\n",
    "\n",
    "A `for` loop is a control flow statement that repeats a block of code a specific number of times.\n",
    "\n",
    "__Syntax__:\n",
    "\n",
    "```python\n",
    "for variable in sequence:\n",
    "    # Code to be executed for each item in the sequence\n",
    "```\n",
    "\n",
    "* __`for`__: The keyword that starts the loop.\n",
    "* __`variable`__: A temporary name you choose to represent the current item from the sequence during each iteration.\n",
    "* __`in`__: A keyword that separates the variable from the sequence.\n",
    "* __`sequence`__: The collection of items you want to loop over"
   ]
  },
  {
   "cell_type": "code",
   "execution_count": null,
   "id": "a17e4e00-0b7d-4a03-a888-cd51e6a063a3",
   "metadata": {},
   "outputs": [],
   "source": [
    "### Begin Code Example\n",
    "for i in range(1, 11):\n",
    "    print(f\"Catching Pokemon # {i}\")\n",
    "### End Code Example"
   ]
  },
  {
   "cell_type": "markdown",
   "id": "4d4b8b9c-5f8a-43a1-8697-9c6b0ebb8f2f",
   "metadata": {},
   "source": [
    "## Functions\n",
    "\n",
    "<center><img src=\"../images/pexels-caleboquendo-7708407.jpg\" width=50%></center>\n",
    "A function is a block of organized, reusable code that is used to perform a single, related action. "
   ]
  },
  {
   "cell_type": "markdown",
   "id": "fd7f4631-606f-4f42-a1ea-ae6e1d4606f2",
   "metadata": {},
   "source": [
    "### Defining Functions\n",
    "\n",
    "The syntax for creating a function in Python uses the `def` keyword, followed by the function name, parentheses `()`, and a colon `:`. \n",
    "\n",
    "The code block that makes up the function must be indented.\n",
    "\n",
    "__Syntax__:\n",
    "```python\n",
    "def function_name(parameter1, parameter2):\n",
    "    # function body\n",
    "    # a block of code to perform a task\n",
    "    return value\n",
    "```\n",
    "\n",
    "* __`def`__: The keyword to signal the start of a function definition.\n",
    "\n",
    "* __`function_name`__: A descriptive name you choose for the function.\n",
    "\n",
    "* __`()`__: Parentheses, which can contain parameters (the inputs to the function).\n",
    "\n",
    "* __`:`__: A colon that marks the end of the function header.\n",
    "\n",
    "* __`return`__: An optional keyword that specifies the value the function sends back when it's finished."
   ]
  },
  {
   "cell_type": "markdown",
   "id": "cdf84ac9-0e72-4a21-aa73-b092c2696fad",
   "metadata": {},
   "source": [
    "#### Calling a Function\n",
    "Once a function is defined, you can execute its code by calling it. You call a function by writing its name followed by parentheses `()`. If the function requires arguments (values for its parameters), you pass them inside the parentheses."
   ]
  },
  {
   "cell_type": "code",
   "execution_count": null,
   "id": "bd43a061-5849-40d2-ba11-3dbb31191edb",
   "metadata": {},
   "outputs": [],
   "source": [
    "### Example Code\n",
    "\n",
    "# Define Function\n",
    "def greet_trainer(name):\n",
    "    return f\"Hello, {name}! Are you ready for a battle?\"\n",
    "\n",
    "# Call Function\n",
    "message = greet_trainer(\"Kira\")\n",
    "\n",
    "print(message)\n",
    "### End Example Code"
   ]
  },
  {
   "cell_type": "markdown",
   "id": "ffb960fb-50ee-4dfb-aff8-2c02119a6ae4",
   "metadata": {},
   "source": [
    "## Data Structures\n",
    "\n",
    "<center><img src=\"../images/pexels-introspectivedsgn-9661252.jpg\" width=50%></center>\n",
    "\n",
    "Data structures are specialized formats for organizing and storing data. They provide a way to manage, retrieve, and use data efficiently. "
   ]
  },
  {
   "cell_type": "markdown",
   "id": "97e1148b-19f6-4a3b-bfd1-c7ba2fa3381f",
   "metadata": {},
   "source": [
    "### Lists\n",
    "\n",
    "A list is a fundamental data structure in Python that is used to store an ordered collection of items.\n",
    "\n",
    "__Key Characteristics of Lists__\n",
    "* __Ordered:__ The items in a list have a defined order, and this order will not change. You can access items by their position (index).\n",
    "\n",
    "* __Mutable:__ You can change, add, or remove items after the list has been created.\n",
    "\n",
    "* __Allows Duplicates:__ A list can contain multiple items with the same value."
   ]
  },
  {
   "cell_type": "markdown",
   "id": "3e959162-3f19-404d-b40d-7d540ede24f0",
   "metadata": {},
   "source": [
    "#### Creating a List\n",
    "\n",
    "You create a list in Python by placing items inside square brackets (`[]`), with each item separated by a comma.\n",
    "\n",
    "__Syntax:__\n",
    "```python\n",
    "list_name = [item1, item2, item3, ...]\n",
    "```"
   ]
  },
  {
   "cell_type": "code",
   "execution_count": null,
   "id": "2cf3d6ec-5b85-4e98-9e47-c4cc4f7aecf5",
   "metadata": {},
   "outputs": [],
   "source": [
    "### Begin Example Code\n",
    "\n",
    "# Empty List\n",
    "team = []\n",
    "### End Example Code"
   ]
  },
  {
   "cell_type": "code",
   "execution_count": null,
   "id": "d8cb65b2-0fcd-4553-b515-0197965161ee",
   "metadata": {},
   "outputs": [],
   "source": [
    "### Begin Example Code\n",
    "\n",
    "# A list of strings\n",
    "team = [\"Pikachu\", \"Charizard\", \"Blastoise\"]\n",
    "\n",
    "# Output List Items\n",
    "print(team)\n",
    "### End Code Example"
   ]
  },
  {
   "cell_type": "code",
   "execution_count": null,
   "id": "ed17bc57-653b-49f7-8731-a4c8da968b14",
   "metadata": {},
   "outputs": [],
   "source": [
    "### Begin Example Code\n",
    "\n",
    "# A list of numbers\n",
    "pokedex = [25, 6, 9]\n",
    "\n",
    "# A list of mixed data types\n",
    "squirtle = [\"Squirtle\", 10, True]\n",
    "\n",
    "### End Example Code"
   ]
  },
  {
   "cell_type": "markdown",
   "id": "92476419-cf27-41c8-af61-aad3e8249a20",
   "metadata": {},
   "source": [
    "#### Accessing Items in a List\n",
    "\n",
    "You can access list items by using the __index operator__ (`[]`) and referring to their __index number__."
   ]
  },
  {
   "cell_type": "code",
   "execution_count": null,
   "id": "21fcff57-3cb8-4b3f-8d33-d4e0fc3cc511",
   "metadata": {},
   "outputs": [],
   "source": [
    "### Begin Example Code\n",
    "\n",
    "# Print the First Item -- Index 0\n",
    "print(team[0])\n",
    "\n",
    "# Print the Second Item -- Index 1\n",
    "print(team[1])\n",
    "\n",
    "### End Example Code"
   ]
  },
  {
   "cell_type": "markdown",
   "id": "e718cc20-1bc0-4e8e-b53a-4e005ca791cd",
   "metadata": {},
   "source": [
    "#### Modifying a List\n",
    "\n",
    "You can change the value of a specific item or add new items to a list."
   ]
  },
  {
   "cell_type": "markdown",
   "id": "7655a004-9478-4b61-803c-27a440c45cdd",
   "metadata": {},
   "source": [
    "##### Changing a List Value:\n",
    "* To change a value in a list, you access the item by its index and then assign a new value to it using the assignment operator (`=`). \n",
    "\n",
    "__Syntax__\n",
    "```python\n",
    "list[index_number] = #new value\n",
    "```"
   ]
  },
  {
   "cell_type": "markdown",
   "id": "ab2b50c1-b8a1-4357-9948-7fc6808e6561",
   "metadata": {},
   "source": [
    "##### Adding an Item with `append()`:\n",
    "\n",
    "* To add a new item to the end of a list, you use the built-in `.append()` method.\n",
    "\n",
    "__Syntax__\n",
    "```python\n",
    "list.append(new_value)\n",
    "```"
   ]
  },
  {
   "cell_type": "code",
   "execution_count": null,
   "id": "46332cae-3970-4860-bee7-4774f30ad9f4",
   "metadata": {},
   "outputs": [],
   "source": [
    "### Begin Example Code\n",
    "print(team)\n",
    "\n",
    "# Change an Item\n",
    "team[1] = \"Venusaur\"\n",
    "print(team)\n",
    "\n",
    "# Adding an Item to the end of the list\n",
    "team.append(\"Eevee\")\n",
    "print(team)"
   ]
  },
  {
   "cell_type": "markdown",
   "id": "39a7ca2b-fb80-4729-b523-09cf02f043ff",
   "metadata": {},
   "source": [
    "#### Challenge: Squirtle's Moves List\n",
    "\n",
    "Squirtle knows four moves.\n",
    "\n",
    "1. Create a list called `squirtle_moves`\n",
    "2. Give the list the followings strings:\n",
    "    * `\"Tackle\"`\n",
    "    * `\"Water Gun\"`\n",
    "    * `\"Tail Whip\"`\n",
    "    * `\"Bubble\"`\n",
    "3. Print the `squirtle_moves` list\n",
    "4. Print the 3rd element in the list."
   ]
  },
  {
   "cell_type": "code",
   "execution_count": null,
   "id": "1dbbf997-e4c4-4777-8f7c-be815114556d",
   "metadata": {},
   "outputs": [],
   "source": [
    "### Begin Challenge\n",
    "squirtle_moves = [\"tackle\", \"water gun\", \"tail whip\", \"bubble\"]\n",
    "print(squirtle_moves)\n",
    "\n",
    "squirtle_moves.append(\"sonic wave\")\n",
    "squirtle_moves.append(\"defend\")\n",
    "squirtle_moves.append(\"water slide\")\n",
    "print(squirtle_moves)\n",
    "\n",
    "print(squirtle_moves[5])\n",
    "\n",
    "## What will this print?\n",
    "print(squirtle_moves[-1])\n",
    "### End Challenge"
   ]
  },
  {
   "cell_type": "code",
   "execution_count": null,
   "id": "a640c42f-5219-4364-b9ac-5c3e74f3c764",
   "metadata": {},
   "outputs": [],
   "source": [
    "### Begin Test\n",
    "assert len(squirtle_moves) == 4, \"The list should have 4 moves.\"\n",
    "assert squirtle_moves[0] == \"Tackle\", \"The first move should be 'Tackle'.\"\n",
    "assert \"Water Gun\" in squirtle_moves, \"The list should contain 'Water Gun'.\"\n",
    "\n",
    "print(\"All tests passed\")\n",
    "\n",
    "### End Test"
   ]
  },
  {
   "cell_type": "markdown",
   "id": "4d4110d0-8c1f-4469-9884-8d30ea7401c5",
   "metadata": {},
   "source": [
    "### Tuples\n",
    "\n",
    "A tuple is a data structure in Python used to store an ordered collection of items, similar to a list. \n",
    "\n",
    "The key difference is that a tuple is immutable, which means you cannot change, add, or remove items after the tuple has been created."
   ]
  },
  {
   "cell_type": "markdown",
   "id": "f391c3e8-0239-42bf-a171-6b00858352ec",
   "metadata": {},
   "source": [
    "#### Creating Tuples\n",
    "\n",
    "Tuples are defined using parentheses `()` and commas to separate the items.\n",
    "\n",
    "__Syntax__:\n",
    "\n",
    "```python\n",
    "tuple_name = (item1, item2, item3)\n",
    "```\n",
    "\n",
    "* __`tuple_name`__: The name you give your tuple variable.\n",
    "\n",
    "* __`()`__: The parentheses are the distinguishing syntax for a tuple.\n",
    "\n",
    "* __`item1, item2, item3`__: The items stored in the tuple. They can be any data type, including other tuples or lists.\n"
   ]
  },
  {
   "cell_type": "code",
   "execution_count": null,
   "id": "d3c53e4b-6d29-4d1a-9ba4-996c5f9ca49a",
   "metadata": {},
   "outputs": [],
   "source": [
    "### Begin Code Example\n",
    "\n",
    "# Create Tuple\n",
    "pokedex_entry = (25, \"Pikachu\", \"electric\")\n",
    "\n",
    "# Output Tuple \n",
    "print(pokedex_entry[0])  \n",
    "print(pokedex_entry[1])\n",
    "\n",
    "print(pokedex_entry)\n",
    "\n",
    "# Tuples cannot be modified\n",
    "pokedex_entry[0] = 300 \n",
    "\n",
    "### End Code Example"
   ]
  },
  {
   "cell_type": "code",
   "execution_count": null,
   "id": "201600d0-fbdd-436d-a1da-bac98e2c52b8",
   "metadata": {},
   "outputs": [],
   "source": [
    "### Begin Bonus Challenge\n",
    "\n",
    "\n",
    "\n",
    "\n",
    "\n",
    "\n",
    "\n",
    "\n",
    "### End Bonus Challenge"
   ]
  },
  {
   "cell_type": "markdown",
   "id": "9a6296f7-cfeb-4fd4-acd7-830b1f1b98d3",
   "metadata": {},
   "source": [
    "### Dictionaries\n",
    "\n",
    "A dictionary is a data structure in Python used to store an unordered collection of data in key-value pairs. \n",
    "\n",
    "Unlike a list or tuple that uses a numbered index, a dictionary uses a unique key to identify and retrieve a specific value.\n",
    "\n",
    "__Key Characteristics of Dictionaries__\n",
    "* __Unordered:__ Think of them as an unordered collection because you access items by key, not by their position.\n",
    "\n",
    "* __Mutable:__ You can add, remove, and change key-value pairs after the dictionary is created.\n",
    "\n",
    "* __Keys must be unique:__ Each key in a dictionary must be unique. If you try to add a new entry with an existing key, the new value will overwrite the old one.\n",
    "\n",
    "* __Keys must be immutable:__ Dictionary keys can be strings, numbers, or tuples, but not lists or other dictionaries."
   ]
  },
  {
   "cell_type": "markdown",
   "id": "69a4a9d3-db3e-435a-a139-44548b92b59b",
   "metadata": {},
   "source": [
    "#### Creating a Dictionary\n",
    "\n",
    "Dictionaries are created using curly braces {} with key-value pairs separated by colons :. Each pair is separated by a comma.\n",
    "\n",
    "```python\n",
    "dictionary_name = { \n",
    "                    key1: value1,\n",
    "                    key2: value2,\n",
    "                    key3: value3\n",
    "                  }\n",
    "```"
   ]
  },
  {
   "cell_type": "code",
   "execution_count": null,
   "id": "f2825177-8bd1-4d1a-bcfc-077ffd1224f9",
   "metadata": {},
   "outputs": [],
   "source": [
    "### Begin Example Code\n",
    "\n",
    "pokemon_stats = {\"hp\": 44,\n",
    "                 \"attack\": 48,\n",
    "                 \"defense\": 65\n",
    "                }\n",
    "\n",
    "print(pokemon_stats)\n",
    "\n",
    "### End Example Code"
   ]
  },
  {
   "cell_type": "markdown",
   "id": "4c88bb7a-6cb4-4fc8-99a3-9591931ea079",
   "metadata": {},
   "source": [
    "#### Accessing Items\n",
    "\n",
    "You can access a value by referring to its corresponding key inside square brackets `[]`."
   ]
  },
  {
   "cell_type": "code",
   "execution_count": null,
   "id": "e55dbfcc-e51a-4970-b586-7c39fda2975f",
   "metadata": {},
   "outputs": [],
   "source": [
    "### Begin Example Code\n",
    "\n",
    "print(pokemon_stats[\"defense\"])\n",
    "print(pokemon_stats[\"hp\"])\n",
    "print(pokemon_stats[\"attack\"])\n",
    "\n",
    "\n",
    "## Add new key-value pair\n",
    "pokemon_stats[\"name\"] = \"Mewtoo\"\n",
    "pokemon_stats[\"type\"] = \"Psychic\"\n",
    "\n",
    "print(pokemon_stats)\n",
    "\n",
    "## Update item\n",
    "pokemon_stats[\"hp\"] = 300\n",
    "\n",
    "print(pokemon_stats)\n",
    "### End Example Code"
   ]
  },
  {
   "cell_type": "markdown",
   "id": "a4f5c775-8703-4e1a-8fb9-4ccbf3aa3df0",
   "metadata": {},
   "source": [
    "#### Adding or Updating an Item\n",
    "\n",
    "To add a new key-value pair, you use a new key with the assignment operator `=`. To update an existing key's value, you do the same."
   ]
  },
  {
   "cell_type": "code",
   "execution_count": null,
   "id": "d7e96a39-6b64-419c-9405-38ab54ea9f18",
   "metadata": {},
   "outputs": [],
   "source": [
    "### Begin Example Code\n",
    "\n",
    "# Add new key-value pair\n",
    "pokemon_stats[\"speed\"] = 43 \n",
    "\n",
    "# Update the value of the 'hp' key\n",
    "pokemon_stats[\"hp\"] = 50\n",
    "\n",
    "print(pokemon_stats)\n",
    "### End Example Code"
   ]
  },
  {
   "cell_type": "markdown",
   "id": "77e7ce57-4259-4fa1-b517-3154d41d217a",
   "metadata": {},
   "source": [
    "#### Challenge: Dictionary - Squirtle Stats\n",
    "\n",
    "1. Create a dictionary called `squirtle_stats`.\n",
    "2. Assign the following key-value pairs:\n",
    "    * `\"hp\"`: `44`\n",
    "    * `\"attack\"`: `48`\n",
    "    * `\"defense\"`: `65`\n",
    "    * `\"speed\"`: `43`\n",
    "3. Print the  `squirtle_stats` dictionary"
   ]
  },
  {
   "cell_type": "code",
   "execution_count": null,
   "id": "d298bae4-c431-4a96-be5a-080c5b1ad555",
   "metadata": {},
   "outputs": [],
   "source": [
    "### Begin Challenge\n",
    "\n",
    "\n",
    "\n",
    "\n",
    "\n",
    "\n",
    "\n",
    "\n",
    "### End Challenge"
   ]
  },
  {
   "cell_type": "code",
   "execution_count": null,
   "id": "08d72f61-8858-4f99-930c-383c87343116",
   "metadata": {},
   "outputs": [],
   "source": [
    "### Begin Test\n",
    "# Check Type and Size\n",
    "assert isinstance(squirtle_stats, dict), \"The variable should be a dictionary.\"\n",
    "assert len(squirtle_stats) == 4, \"The dictionary should contain exactly  items.\"\n",
    "\n",
    "# Check Keys\n",
    "assert \"hp\" in squirtle_stats, \"The 'hp' key should be in the dictionary.\"\n",
    "assert \"speed\" in squirtle_stats, \"The 'speed' key should be in the dictionary.\"\n",
    "assert \"defense\" in squirtle_stats, \"The 'defense' key should be in the dictionary.\"\n",
    "assert \"attack\" in squirtle_stats, \"The 'attack' key should be in the dictionary.\"\n",
    "\n",
    "# Check Values\n",
    "assert squirtle_stats[\"defense\"] == 65, \"The defense stat should be 65.\"\n",
    "assert squirtle_stats[\"hp\"] == 44, \"hp should be 44.\"\n",
    "assert squirtle_stats[\"speed\"] == 43, \"speed should be 43.\"\n",
    "assert squirtle_stats[\"attack\"] == 48, \"attack should be 48.\"\n",
    "\n",
    "print(\"All dictionary tests passed.\")\n",
    "### End Test"
   ]
  },
  {
   "cell_type": "markdown",
   "id": "1cfe7f03-56a9-4e3f-bbb7-692e4d43198c",
   "metadata": {},
   "source": [
    "### Sets\n",
    "\n",
    "A set is an unordered collection of unique, immutable items.\n",
    "\n",
    "__Key Characteristics of Sets__\n",
    "* __Unordered:__ Items in a set do not have a defined order or index. You cannot access them using a number.\n",
    "\n",
    "* __Unique:__ A set can only contain one instance of each item. If you try to add a duplicate, it will be ignored.\n",
    "\n",
    "* __Mutable:__ You can add or remove items from a set after it's been created.\n",
    "\n",
    "* __Items are Immutable:__ The individual items within a set must be of an immutable data type, such as strings, numbers, or tuples. You cannot place mutable types like lists or dictionaries inside a set."
   ]
  },
  {
   "cell_type": "markdown",
   "id": "d86edd73-2503-4a9b-bd8e-a698e4f68f65",
   "metadata": {},
   "source": [
    "#### Creating a Set\n",
    "\n",
    "Sets are created using curly braces `{}` or the `set()` constructor.\n",
    "\n",
    "__Syntax__:\n",
    "```python\n",
    "set_name = {item1, item2, item3}\n",
    "```"
   ]
  },
  {
   "cell_type": "code",
   "execution_count": null,
   "id": "51e4410e-a573-4922-9218-0c147dc76998",
   "metadata": {},
   "outputs": [],
   "source": [
    "### Begin Example Code\n",
    "\n",
    "# A set of strings\n",
    "pokemon_types = {\"Fire\", \"Water\", \"Grass\"}\n",
    "\n",
    "print(pokemon_types)\n",
    "\n",
    "### End Code Example"
   ]
  },
  {
   "cell_type": "markdown",
   "id": "3158a423-9282-4767-8be9-ab483d47dfc8",
   "metadata": {},
   "source": [
    "#### Adding and Removing Items\n",
    "\n",
    "You use the `.add()` method to add an item and `.remove()` to remove an item."
   ]
  },
  {
   "cell_type": "code",
   "execution_count": null,
   "id": "f821ed8a-2369-4756-82ac-67979f0c80a5",
   "metadata": {},
   "outputs": [],
   "source": [
    "### Begin Example Code\n",
    "\n",
    "# Add a new item\n",
    "pokemon_types.add(\"Electric\")\n",
    "print(pokemon_types)\n",
    "\n",
    "# Removing an item\n",
    "pokemon_types.remove(\"Grass\")\n",
    "print(pokemon_types)\n",
    "\n",
    "### End Example Code"
   ]
  },
  {
   "cell_type": "markdown",
   "id": "7159bfda-fd4b-4da4-a13e-7e2a5cb405cb",
   "metadata": {},
   "source": [
    "#### Challenge: Electric Type Set\n",
    "\n",
    "1. Create a variable called `electric_pokemon`\n",
    "2. Assign the set the following Pokemon names as strings:\n",
    "    * `\"Pikachu\"`\n",
    "    * `\"Jolteon\"`\n",
    "    * `\"Zapdos\"`\n",
    "    * `\"Magneton\"`\n",
    "    * `\"Ampharos\"`\n",
    "3. Print `electric_pokemon`"
   ]
  },
  {
   "cell_type": "code",
   "execution_count": null,
   "id": "27ebd632-937e-4af0-81ac-3188d29aafbc",
   "metadata": {},
   "outputs": [],
   "source": [
    "### Begin Challenge\n",
    "\n",
    "\n",
    "\n",
    "\n",
    "### End Challenge"
   ]
  },
  {
   "cell_type": "code",
   "execution_count": null,
   "id": "edeb40c7-3124-4efd-9d1c-536bc941870a",
   "metadata": {},
   "outputs": [],
   "source": [
    "### Begin Test\n",
    "# Assert test to check the data type\n",
    "assert isinstance(electric_pokemon, set), \"The variable should be a set.\"\n",
    "\n",
    "# Assert test to check the size and content of the set\n",
    "assert len(electric_pokemon) == 5, \"The set should contain exactly 5 Pokémon.\"\n",
    "assert \"Pikachu\" in electric_pokemon, \"Pikachu should be in the set.\"\n",
    "assert \"Jolteon\" in electric_pokemon, \"Jolteon should be in the set.\"\n",
    "assert \"Zapdos\" in electric_pokemon, \"Zapdos should be in the set.\"\n",
    "assert \"Magneton\" in electric_pokemon, \"Magneton should be in the set.\"\n",
    "assert \"Ampharos\" in electric_pokemon, \"Ampharos should be in the set.\"\n",
    "\n",
    "print(\"All tests passed!\")\n",
    "### End Test"
   ]
  }
 ],
 "metadata": {
  "kernelspec": {
   "display_name": "Python 3 (ipykernel)",
   "language": "python",
   "name": "python3"
  },
  "language_info": {
   "codemirror_mode": {
    "name": "ipython",
    "version": 3
   },
   "file_extension": ".py",
   "mimetype": "text/x-python",
   "name": "python",
   "nbconvert_exporter": "python",
   "pygments_lexer": "ipython3",
   "version": "3.12.5"
  }
 },
 "nbformat": 4,
 "nbformat_minor": 5
}
