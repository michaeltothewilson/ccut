{
 "cells": [
  {
   "cell_type": "markdown",
   "id": "c390a783-7af0-476c-b856-873a65234b98",
   "metadata": {},
   "source": [
    "# Introduction to Object-Oriented Programming (OOP)"
   ]
  },
  {
   "cell_type": "markdown",
   "id": "735733b3-257d-45d4-8375-2d2769ab4e1a",
   "metadata": {},
   "source": [
    "# Classes and Objects"
   ]
  },
  {
   "cell_type": "markdown",
   "id": "6e20b517-e88c-4cd9-84f4-744bb25ce047",
   "metadata": {},
   "source": [
    "# Fruit Class"
   ]
  },
  {
   "cell_type": "code",
   "execution_count": null,
   "id": "3145fd20-19b8-4ecb-8c99-a6ac367675b0",
   "metadata": {},
   "outputs": [],
   "source": [
    "### Code Demonstration\n",
    "\n",
    "# Make Fruit Class\n",
    "class Fruit:\n",
    "    # Create Attributes\n",
    "    def __init__(self, name, color, ripe, price, weight):\n",
    "        self.name = name\n",
    "        self.color = color\n",
    "        self.ripe = ripe\n",
    "        self.price = price\n",
    "        self.weight = weight\n",
    "\n",
    "    # Create the Methods\n",
    "    def get_information(self):\n",
    "        information1 = f\"Name: {self.name} \\nColor: {self.color}\"\n",
    "        information2 = f\"\\nRipe: {self.ripe} \\nPrice: {self.price}\" \n",
    "        information3 = f\"\\nWeight: {self.weight}\"\n",
    "        return information1 + information2 + information3\n",
    "        \n",
    "    def is_ripe(self):\n",
    "        return self.ripe\n",
    "\n",
    "    def get_total_price(self):\n",
    "        total_price = self.price * self.weight\n",
    "        return total_price\n",
    "\n",
    "print(\"Class Creation Complete\")"
   ]
  },
  {
   "cell_type": "markdown",
   "id": "c0cb43c1-69dd-4d23-81c3-fd1b34611064",
   "metadata": {},
   "source": [
    "# Fruit Objects"
   ]
  },
  {
   "cell_type": "code",
   "execution_count": null,
   "id": "3824b55d-fbb2-4758-aaac-ad096eb9ddaf",
   "metadata": {},
   "outputs": [],
   "source": [
    "### Code Demonstration\n",
    "\n",
    "# Create a Watermelon Object\n",
    "watermelon = Fruit(\"Watermelon\", \"Green\", True, 0.50, 5.0)\n",
    "\n",
    "# Print Object Name\n",
    "print(watermelon.name)\n",
    "\n",
    "# Print Object Color\n",
    "print(watermelon.color)\n",
    "\n",
    "# Is the Watermelon Ripe (use the method)?\n",
    "print(watermelon.is_ripe())\n",
    "\n",
    "# Use the Get Information Method\n",
    "print(watermelon.get_information())\n",
    "\n",
    "# Make a Pineapple\n",
    "pineapple = Fruit(\"Pineapple\", \"Yellow\", False, 1.99, 1.4)\n",
    "print(f\"\\n\\n{pineapple.get_information()}\")\n",
    "\n",
    "# Make a Lychee\n",
    "lychee = Fruit(\"Lychee\", \"Red\", True, 4.99, 0.6)\n",
    "print(f\"\\n\\n{lychee.get_information()}\")\n",
    "\n",
    "#Get the total price for each of these fruit objects\n",
    "watermelon_price = watermelon.get_total_price()\n",
    "print(f\"\\nThis watermelon costs: ${watermelon_price}\")\n",
    "pineapple_price = pineapple.get_total_price()\n",
    "print(f\"\\nThis pineapple costs: ${pineapple_price}\")\n",
    "lychee_price = lychee.get_total_price()\n",
    "print(f\"\\nThis lychee costs: ${lychee_price}\")"
   ]
  },
  {
   "cell_type": "markdown",
   "id": "e8b6fc6b-f7fe-4522-a35c-84f3d254d1ce",
   "metadata": {},
   "source": [
    "# Pet Class"
   ]
  },
  {
   "cell_type": "code",
   "execution_count": null,
   "id": "14155386-226f-4122-a287-22344dea393a",
   "metadata": {},
   "outputs": [],
   "source": [
    "# Create Pet Class\n",
    "\n",
    "class Pet:\n",
    "    # Create Attributes\n",
    "    def __init__(self, kind, name, sound):\n",
    "        self.kind = kind\n",
    "        self.name = name\n",
    "        self.sound = sound\n",
    "\n",
    "    # Create Methods\n",
    "    def get_information(self):\n",
    "        print(f\"My Name is: {self.name}\\nI am a {self.kind}\")\n",
    "    def make_sound(self):\n",
    "        print(self.sound)\n"
   ]
  },
  {
   "cell_type": "markdown",
   "id": "4e85c96c-0deb-4cf3-a345-736e61ffde5f",
   "metadata": {},
   "source": [
    "# Pet Object"
   ]
  },
  {
   "cell_type": "code",
   "execution_count": null,
   "id": "9e84facf-16e4-44be-8940-51873ca43a94",
   "metadata": {},
   "outputs": [],
   "source": [
    "# Make a Cat Object\n",
    "my_cat = Pet(\"Cat\", \"Bea\", \"MEOW\")\n",
    "\n",
    "# Get Information\n",
    "my_cat.get_information()\n",
    "\n",
    "# The Pet Makes a Sound\n",
    "my_cat.make_sound()\n",
    "\n",
    "# Make Dog Object\n",
    "my_dog = Pet(\"Dog\", \"Barkus\", \"WOOF\")\n",
    "\n",
    "# Get the Information\n",
    "my_dog.get_information()\n",
    "\n",
    "# Make A Sound\n",
    "my_dog.make_sound()"
   ]
  },
  {
   "cell_type": "markdown",
   "id": "cd6ce985-a6e9-4c73-984a-4bc48b528bca",
   "metadata": {},
   "source": [
    "## Pokemon Class"
   ]
  },
  {
   "cell_type": "code",
   "execution_count": null,
   "id": "f7a0db3e-e613-49ea-99f1-dd0fd795f7ae",
   "metadata": {},
   "outputs": [],
   "source": [
    "### Code Demonstration\n",
    "class Pokemon:\n",
    "    # Create Attributes\n",
    "    def __init__(self, name, kind, health, attack):\n",
    "        self.name = name\n",
    "        self.kind = kind\n",
    "        self.health = health\n",
    "        self.attack = attack\n",
    "\n",
    "    # Create Method\n",
    "    def display_stats(self):\n",
    "        print(f\"Name: {self.name}\\nKind:{self.kind}\\nHealth:{self.health}\\nAttack:{self.attack}\")"
   ]
  },
  {
   "cell_type": "code",
   "execution_count": null,
   "id": "2e8a8d3c-8847-4955-a52b-e355aa419e99",
   "metadata": {},
   "outputs": [],
   "source": [
    "### Create a Pokemon Object\n",
    "pikachu = Pokemon(\"Pikachu\", \"Electric\", 100, 25)\n",
    "pikachu.display_stats()"
   ]
  }
 ],
 "metadata": {
  "kernelspec": {
   "display_name": "Python 3 (ipykernel)",
   "language": "python",
   "name": "python3"
  },
  "language_info": {
   "codemirror_mode": {
    "name": "ipython",
    "version": 3
   },
   "file_extension": ".py",
   "mimetype": "text/x-python",
   "name": "python",
   "nbconvert_exporter": "python",
   "pygments_lexer": "ipython3",
   "version": "3.12.5"
  }
 },
 "nbformat": 4,
 "nbformat_minor": 5
}
