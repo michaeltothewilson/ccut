{
 "cells": [
  {
   "cell_type": "markdown",
   "id": "3d800628-2f80-473b-be9d-aa8a061ff2a1",
   "metadata": {},
   "source": [
    "# Advanced OOP"
   ]
  },
  {
   "cell_type": "markdown",
   "id": "751f97c9-b062-432a-8999-3e4c810e43e9",
   "metadata": {},
   "source": [
    "## Abstract Classes and Interfaces"
   ]
  },
  {
   "cell_type": "markdown",
   "id": "1515d910-72a9-4eb5-98a3-7f44e6e2c0fe",
   "metadata": {},
   "source": [
    "### Abstract Base Classes (ABCs)"
   ]
  },
  {
   "cell_type": "markdown",
   "id": "d111c3c1-ad7f-47ac-acea-d12e64b14b08",
   "metadata": {},
   "source": [
    "### Abstract Methods"
   ]
  },
  {
   "cell_type": "markdown",
   "id": "df098696-54d3-4ca7-8c90-811c79cd1744",
   "metadata": {},
   "source": [
    "## Class and Static Methods"
   ]
  },
  {
   "cell_type": "markdown",
   "id": "e3858ae9-02f3-44a9-8f33-5b4a226b3642",
   "metadata": {},
   "source": [
    "### Instance Methods"
   ]
  },
  {
   "cell_type": "markdown",
   "id": "bd4d781e-5160-49bb-aab7-27e373a9437b",
   "metadata": {},
   "source": [
    "### Class Methods (`classmethod`)"
   ]
  },
  {
   "cell_type": "markdown",
   "id": "d5f6dac8-ed93-4a4a-94c0-cfd9d0ce2efb",
   "metadata": {},
   "source": [
    "### Static Methods (`@staticmethod`)"
   ]
  },
  {
   "cell_type": "markdown",
   "id": "a64b44c5-4dc9-42fc-8241-f9e138049f3c",
   "metadata": {},
   "source": [
    "## Magic Methods (Dunder Methods)"
   ]
  },
  {
   "cell_type": "markdown",
   "id": "c1c33f5b-bdf4-436a-8ee7-449bfeddbc8d",
   "metadata": {},
   "source": [
    "### Common Dunder Methods"
   ]
  }
 ],
 "metadata": {
  "kernelspec": {
   "display_name": "Python 3 (ipykernel)",
   "language": "python",
   "name": "python3"
  },
  "language_info": {
   "codemirror_mode": {
    "name": "ipython",
    "version": 3
   },
   "file_extension": ".py",
   "mimetype": "text/x-python",
   "name": "python",
   "nbconvert_exporter": "python",
   "pygments_lexer": "ipython3",
   "version": "3.12.5"
  }
 },
 "nbformat": 4,
 "nbformat_minor": 5
}
